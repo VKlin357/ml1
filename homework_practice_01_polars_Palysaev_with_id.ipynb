{
  "cells": [
    {
      "cell_type": "markdown",
      "metadata": {
        "id": "qT4lcRBz3JKd"
      },
      "source": [
        "## Машинное обучение 1, ПМИ ФКН ВШЭ\n",
        "\n",
        "## Практическое домашнее задание 1\n",
        "\n",
        "### Общая информация\n",
        "\n",
        "Дата выдачи: 25.09.2024\n",
        "\n",
        "Мягкий дедлайн: 23:59MSK 06.10.2024\n",
        "\n",
        "Жесткий дедлайн: 23:59MSK 10.10.2024"
      ]
    },
    {
      "cell_type": "markdown",
      "metadata": {
        "id": "UzmZAvdT3JKf"
      },
      "source": [
        "### О задании\n",
        "\n",
        "Задание состоит из двух разделов, посвященных работе с табличными данными с помощью библиотеки `polars` и визуализации с помощью `matplotlib`. В первом разделе вам предстоит выполнить базовые задания с помощью вышеуказанных библиотек, а во втором распределить студентов по курсам. Баллы даются за выполнение отдельных пунктов. Задачи в рамках одного раздела рекомендуется решать в том порядке, в котором они даны в задании.\n",
        "\n",
        "Задание направлено на освоение jupyter notebook (будет использоваться в дальнейших заданиях), библиотек polars и matplotlib.\n",
        "\n",
        "### Оценивание и штрафы\n",
        "Каждая из задач имеет определенную «стоимость» (указана в скобках около задачи). Максимально допустимая оценка за работу — 10 баллов без учёта бонусов. Сдавать задание после жёсткого дедлайна нельзя.\n",
        "\n",
        "Задание выполняется самостоятельно. «Похожие» решения считаются плагиатом и все задействованные студенты (в том числе те, у кого списали) не могут получить за него больше 0 баллов (подробнее о плагиате см. на странице курса). Если вы нашли решение какого-то из заданий (или его часть) в открытом источнике, необходимо указать ссылку на этот источник (скорее всего вы будете не единственным, кто это нашел, поэтому чтобы исключить подозрение в плагиате, необходима ссылка на источник).\n",
        "\n",
        "### Формат сдачи\n",
        "Задания сдаются через систему Anytask. Инвайт можно получить у семинариста или ассистента. Присылать необходимо ноутбук с выполненным заданием. Сам ноутбук называйте в формате `homework-practice-01-polars-Username.ipynb`, где Username — ваша фамилия.\n",
        "\n",
        "Для удобства проверки самостоятельно посчитайте свою максимальную оценку (исходя из набора решенных задач) и укажите ниже.\n",
        "\n",
        "Оценка: xx."
      ]
    },
    {
      "cell_type": "markdown",
      "metadata": {
        "id": "bQMq9hxz3JKg"
      },
      "source": [
        "## 0. Введение"
      ]
    },
    {
      "cell_type": "markdown",
      "metadata": {
        "id": "rDm3xw-Y3JKg"
      },
      "source": [
        "Сейчас мы находимся в jupyter-ноутбуке (или ipython-ноутбуке). Это удобная среда для написания кода, проведения экспериментов, изучения данных, построения визуализаций и других нужд, не связанных с написанием production-кода.\n",
        "\n",
        "Ноутбук состоит из ячеек, каждая из которых может быть либо ячейкой с кодом, либо ячейкой с текстом размеченным и неразмеченным. Текст поддерживает markdown-разметку и формулы в Latex.\n",
        "\n",
        "Для работы с содержимым ячейки используется *режим редактирования* (*Edit mode*, включается нажатием клавиши **Enter** после выбора ячейки), а для навигации между ячейками искользуется *командный режим* (*Command mode*, включается нажатием клавиши **Esc**). Тип ячейки можно задать в командном режиме либо с помощью горячих клавиш (**y** to code, **m** to markdown, **r** to edit raw text), либо в меню *Cell -> Cell type*.\n",
        "\n",
        "После заполнения ячейки нужно нажать *Shift + Enter*, эта команда обработает содержимое ячейки: проинтерпретирует код или сверстает размеченный текст."
      ]
    },
    {
      "cell_type": "code",
      "execution_count": 1,
      "metadata": {
        "id": "OEmmbrlv3JKh",
        "colab": {
          "base_uri": "https://localhost:8080/"
        },
        "outputId": "497504ed-1268-463a-f077-45f50274b876"
      },
      "outputs": [
        {
          "output_type": "execute_result",
          "data": {
            "text/plain": [
              "4"
            ]
          },
          "metadata": {},
          "execution_count": 1
        }
      ],
      "source": [
        "# ячейка с кодом, при выполнении которой появится output\n",
        "2 + 2"
      ]
    },
    {
      "cell_type": "markdown",
      "metadata": {
        "id": "pHuI1gxN3JKi"
      },
      "source": [
        "Ячейка с неразмеченыным текстом."
      ]
    },
    {
      "cell_type": "markdown",
      "metadata": {
        "id": "7Od1jM9q3JKi"
      },
      "source": [
        "Попробуйте создать свои ячейки, написать какой-нибудь код и текст какой-нибудь формулой."
      ]
    },
    {
      "cell_type": "code",
      "execution_count": 2,
      "metadata": {
        "id": "bmR2-3Ut3JKi"
      },
      "outputs": [],
      "source": [
        "# your code"
      ]
    },
    {
      "cell_type": "markdown",
      "metadata": {
        "id": "eNSsZ84J3JKj"
      },
      "source": [
        "[Здесь](https://athena.brynmawr.edu/jupyter/hub/dblank/public/Jupyter%20Notebook%20Users%20Manual.ipynb) находится <s>не</s>большая заметка о используемом языке разметки Markdown. Он позволяет:\n",
        "\n",
        "0. Составлять упорядоченные списки\n",
        "1. Выделять *текст* <s>при</s> **необходимости**\n",
        "2. Добавлять [ссылки](http://imgs.xkcd.com/comics/the_universal_label.png)\n",
        "\n",
        "\n",
        "* Составлять неупорядоченные списки\n",
        "\n",
        "Делать вставки с помощью LaTex:\n",
        "    \n",
        "$\n",
        "\\left\\{\n",
        "\\begin{array}{ll}\n",
        "x = 16 \\sin^3 (t) \\\\\n",
        "y = 13 \\cos (t) - 5 \\cos (2t) - 2 \\cos (3t) - \\cos (4t) \\\\\n",
        "t \\in [0, 2 \\pi]\n",
        "\\end{array}\n",
        "\\right.$"
      ]
    },
    {
      "cell_type": "markdown",
      "metadata": {
        "id": "lmR9WkMh3JKj"
      },
      "source": [
        "А ещё можно вставлять картинки, или гифки, или что захотите:\n",
        "\n",
        "<img src=\"https://i.imgur.com/k5df8lX.gif\" width=\"400px\">\n",
        "\n"
      ]
    },
    {
      "cell_type": "markdown",
      "metadata": {
        "id": "dPLYl66y3JKj"
      },
      "source": [
        "### Google Colab"
      ]
    },
    {
      "cell_type": "markdown",
      "metadata": {
        "id": "A4lqG21G3JKj"
      },
      "source": [
        "Что за колаб?\n",
        "\n",
        "**Google Colab (Colaboratory)** это **Jupyter Notebook + Cloud + Google Drive.**\n",
        "\n",
        "Компания Google предоставляет возможность бесплатно запускать ноутбуки (предварительно загрузив их на свой гугл-диск) прямо в облаке. При этом вам не требуется установка никаких пакетов на свою машину, а работать можно прямиком из браузера. Вот ссылка:"
      ]
    },
    {
      "cell_type": "markdown",
      "metadata": {
        "id": "79bVOFY_3JKj"
      },
      "source": [
        "https://colab.research.google.com"
      ]
    },
    {
      "cell_type": "markdown",
      "metadata": {
        "id": "LnMoUH2P3JKj"
      },
      "source": [
        "При использовании вы увидите много сходств с jupyter ноутбуком. Одним из преимуществ является доступность GPU, соответствующую опцию можно активировать в настройках сервиса. При желании вы сможете найти в интернете много туториалов по использованию или разобраться самостоятельно =)"
      ]
    },
    {
      "cell_type": "markdown",
      "metadata": {
        "id": "iAb44N3VjD11"
      },
      "source": [
        "### Kaggle\n",
        "\n",
        "Альтернативой является **Kaggle**, он же площадка для самых разных соревнований по машинному обучению\n",
        "\n",
        "Он, как и колаб, предоставляет бесплатный GPU, и даже не один, с чётким лимитом в 30 часов в неделю (colab может его внезапно отобрать, kaggle - нет) более мощные CPU с большим числом ядер, и больше Гб ОЗУ (раз так в 2.5)\n",
        "\n",
        "https://www.kaggle.com\n",
        "\n",
        "К сожалению мир не идеален, недостатки следующие:\n",
        "- необходимость загружать датасеты через специальную кнопочку\n",
        "- невозможность использовать свои скрипты и модули :(\n",
        "- нужно тыкать техподдержку, чтобы создать аккаунт из России"
      ]
    },
    {
      "cell_type": "markdown",
      "metadata": {
        "id": "91bWX9jd3JKk"
      },
      "source": [
        "## 1. Табличные данные и Polars"
      ]
    },
    {
      "cell_type": "markdown",
      "metadata": {
        "id": "Z9L3rKBm3JKk"
      },
      "source": [
        "Эта версия домашки предполагает, что вы уже являетесь уверенным пользователем `pandas` и знакомы с датафреймами, как они устроены и как ими манипулировать. Библиотека `polars` основана на тех же концептах.\n",
        "\n",
        "Главные достоинства, которые чуть позже продемонстрируем:\n",
        "- он написан на Rust, поэтому почти все операции в нём выполняются значительно быстрее, есть распараллеливание из коробки, автоматическая оптимизация запросов и пр\n",
        "- он позволяет работать с данными, которые не помещаются в оперативку, с этим поможет `pl.LazyFrame` и streaming\n",
        "- конечно же имеются дополнительные функции, которых в `pandas` нет, но очень хочется, например агрегации с расширяющимся окном, произвольные оконные функции и прочее, для этого есть крайне гибкая штука `pl.Expr`\n",
        "\n",
        "Подробнее можете прочитать на [любом](https://habr.com/ru/articles/710240/) [ресурсе](https://realpython.com/polars-python/), [посвящённом](https://blog.jetbrains.com/pycharm/2024/07/polars-vs-pandas/) [`polars`](https://habr.com/ru/companies/spectr/articles/738766/)\n",
        "\n",
        "В этой части потребуется выполнить несколько небольших заданий. Можно пойти двумя путями: сначала изучить материалы, а потом приступить к заданиям, или же разбираться \"по ходу\". Выбирайте сами\n",
        "\n",
        "Если не понятно, как вызывать конкретный метод, обратитесь к материалам ниже. Имейте в виду, что синтаксис `polars` отличается от привычного нампаевского.\n",
        "Скорее всего все ваши самые извращённые фантазии уже как-то реализованы в `polars`, поэтому читайте внимательно. Ну и конечно гуглить не запрещено, но желательно прикладывать источник\n",
        "\n",
        "Материалы:\n",
        "1. [Getting started](https://docs.pola.rs/user-guide/getting-started/#reading-writing) из официального руководства\n",
        "2. [Документация](https://docs.pola.rs/api/python/stable/reference/index.html) со всем необходимым\n",
        "3. [Модификация для Data Science](https://polars-ds-extension.readthedocs.io/en/latest/index.html), вам скорее всего не понадобится в данном задании, но имейте в виду\n",
        "\n",
        "Многие из заданий можно выполнить несколькими способами. Не существуют единственно верного, но попробуйте максимально задействовать арсенал polars и ориентируйтесь на простоту и понятность вашего кода. Мы не будем подсказывать, что нужно использовать для решения конкретной задачи, попробуйте находить необходимый функционал сами (название метода чаще всего очевидно)"
      ]
    },
    {
      "cell_type": "code",
      "execution_count": 3,
      "metadata": {
        "id": "TwYQ-X_Q-m2A",
        "colab": {
          "base_uri": "https://localhost:8080/"
        },
        "outputId": "9949151a-4941-41f1-cb3c-3ceba1642ff2"
      },
      "outputs": [
        {
          "output_type": "stream",
          "name": "stdout",
          "text": [
            "\u001b[2K   \u001b[90m━━━━━━━━━━━━━━━━━━━━━━━━━━━━━━━━━━━━━━━━\u001b[0m \u001b[32m31.6/31.6 MB\u001b[0m \u001b[31m10.6 MB/s\u001b[0m eta \u001b[36m0:00:00\u001b[0m\n",
            "\u001b[2K   \u001b[90m━━━━━━━━━━━━━━━━━━━━━━━━━━━━━━━━━━━━━━━━\u001b[0m \u001b[32m161.0/161.0 kB\u001b[0m \u001b[31m6.4 MB/s\u001b[0m eta \u001b[36m0:00:00\u001b[0m\n",
            "\u001b[?25h"
          ]
        }
      ],
      "source": [
        "# поларс относительно молодой, имейте в виду, что что-то может сломаться, если будете менять версию\n",
        "!pip install -qU hvplot xlsx2csv polars==1.5.0"
      ]
    },
    {
      "cell_type": "code",
      "execution_count": 4,
      "metadata": {
        "id": "72smvZpD3JKk"
      },
      "outputs": [],
      "source": [
        "import polars as pl"
      ]
    },
    {
      "cell_type": "markdown",
      "metadata": {
        "id": "hX2zRkMI3JKk"
      },
      "source": [
        "Скачаем данные:"
      ]
    },
    {
      "cell_type": "code",
      "execution_count": 5,
      "metadata": {
        "id": "a4wqrhEA3JKk"
      },
      "outputs": [],
      "source": [
        "!wget  -O 'end_seminar.xlsx' -q 'https://www.dropbox.com/s/f4rm8sjc3v99p0m/_end_seminar.xlsx?dl=0'"
      ]
    },
    {
      "cell_type": "markdown",
      "metadata": {
        "id": "joackhzP3JKl"
      },
      "source": [
        "Для пользователей Windows: скачайте файл самостоятельно и поместите его в папку с тетрадкой. Или попробуйте один из следующих вариантов:"
      ]
    },
    {
      "cell_type": "code",
      "execution_count": 6,
      "metadata": {
        "id": "yhc9NUeE3JKl"
      },
      "outputs": [],
      "source": [
        "# !powershell iwr -outf somefile https://somesite/somefile"
      ]
    },
    {
      "cell_type": "code",
      "execution_count": 7,
      "metadata": {
        "id": "FxbRPi183JKl"
      },
      "outputs": [],
      "source": [
        "# !pip install wget\n",
        "# import wget\n",
        "# wget.download('https://dropbox.com/s/f4rm8sjc3v99p0m/_end_seminar.xlsx?dl=1', 'end_seminar.xlsx')"
      ]
    },
    {
      "cell_type": "markdown",
      "metadata": {
        "id": "5hIwLXz43JKl"
      },
      "source": [
        "### 📌 **Обязательно прочитайте блок ниже**\n",
        "\n",
        "> Пандасом и нампаем пользоваться неельзяя... Совсем\n",
        "\n",
        "> В первой части задания (до раздела \"Распределение студентов по курсам\") использование циклов запрещается и повлечет за собой снижение оценки. Во второй уже можно, но с оговорками, о чём ниже\n",
        "\n",
        "> Циклами в данном случае считается `for`, `while` и map-методы `polars`, где можно использовать лямбда-функцию. Главным образом `map_elements` и его производные.\n",
        "И как правило, всё то, что не умеет делать `pl.LazyFrame` - список [здесь](https://docs.pola.rs/api/python/stable/reference/lazyframe/index.html). Мотивация следующая - используя встроенные функции и методы, `polars` может оптимизировать ваш запрос и провести все нужные манипуляции, прежде чем сериализовать и вывести ответ (за некоторыми исключениями), поэтому важно научиться с этим управляться\n",
        "\n",
        "> Чтобы сделать выбор `polars` осмысленным, мы немножко модифицируем исходный датасет. Он будет больше в несколько раз и может не влезть в память, если у вас меньше 8 Гб, а с учётом преобразований может потребоваться до 64 Гб! Не пренебрегайте возможностями `pl.LazyFrame`. Его использование не обязательно, но может сильно облегчить вам жизнь\n",
        "\n",
        "> Трансформировать датасет `df` можно, как только это потребуется по условию (таких пунктов всего 2), на всякий случай поставим значок 🔄\n",
        "\n",
        "> Если небрежно обращаться с методами `polars`, вы рискуете крашнуть ядро, взорвать компутер, потерять рассудок... Если вдруг у вас есть тачка или хотите подебажить на исходном датасете, то пожалуйста, но помните про условия выше\n",
        "\n",
        "> Гарантируется, что задание можно выполнить, имея лишь ресурсы Google Colab (бесплатные), удачи ( ͡° ͜ʖ ͡°)"
      ]
    },
    {
      "cell_type": "markdown",
      "metadata": {
        "id": "das_ZBWy3JKl"
      },
      "source": [
        "Для каждой задачи из этого раздела вы должны написать код для получения ответа, а также дать текстовый ответ, если он предполагается.\n",
        "\n",
        "На некоторые вопросы вы можете получить путём пристального взгляда на таблицу, но это не будет засчитываться. Вы в любом случае должны получить ответ с помощью кода."
      ]
    },
    {
      "cell_type": "markdown",
      "source": [
        "### 🐻 Бонус polars. [3 балла]\n",
        "Бонус за использование `polars` равен вашей оценке за дз, умноженной на коэффициент 1.3, поэтому даже если сделали не всё, не отчаивайтесь)"
      ],
      "metadata": {
        "id": "7L9UmKvHSBhk"
      }
    },
    {
      "cell_type": "markdown",
      "metadata": {
        "id": "KH2B5XPBDlgp"
      },
      "source": [
        "#### 0. Ещё пара красивых слов"
      ]
    },
    {
      "cell_type": "markdown",
      "metadata": {
        "id": "-pO9LsL5Dsds"
      },
      "source": [
        "Первые несколько манипуляций мы сделаем за вас, а заодно поясним, в чём тут нюанс"
      ]
    },
    {
      "cell_type": "code",
      "execution_count": 8,
      "metadata": {
        "colab": {
          "base_uri": "https://localhost:8080/"
        },
        "id": "Ee0QXmptDrX7",
        "outputId": "4c60be48-e84a-47b8-fb9c-b8b92c8df7a9"
      },
      "outputs": [
        {
          "output_type": "stream",
          "name": "stdout",
          "text": [
            "361 rows\n",
            "0.14587879180908203 mb\n"
          ]
        }
      ],
      "source": [
        "# читаем датафрейм\n",
        "initial_df = pl.read_excel(\"end_seminar.xlsx\", engine=\"xlsx2csv\")\n",
        "print(initial_df.shape[0], \"rows\")\n",
        "print(initial_df.estimated_size(\"mb\"), \"mb\")"
      ]
    },
    {
      "cell_type": "markdown",
      "metadata": {
        "id": "P0nMQNXCD1IO"
      },
      "source": [
        "Как видим, он достаточно маленький. С такими объёмами выбор библиотеки это чисто вкусовщина. Давайте немного поднимем ставки"
      ]
    },
    {
      "cell_type": "code",
      "execution_count": 9,
      "metadata": {
        "id": "PzBRfWY1ECOV"
      },
      "outputs": [],
      "source": [
        "def repeat_df(df: pl.DataFrame | pl.LazyFrame, n: int = 2) -> pl.LazyFrame:\n",
        "    return (\n",
        "        df.lazy()\n",
        "        .select(pl.col(\"timestamp\").unique().sort().repeat_by(n).flatten())\n",
        "        .join(df.lazy(), on=\"timestamp\", how=\"left\")\n",
        "    )"
      ]
    },
    {
      "cell_type": "markdown",
      "metadata": {
        "id": "loouiViPEHGJ"
      },
      "source": [
        "Для работы с датафреймами, которые в память не влезают, нам понадобится объект `pl.LazyFrame`. Он представляет из себя схему выполнения вашего запроса, который оптимизируется, бьётся на батчи и параллелится под капотом через StreamingAPI, что для нас просто идеально. Перевести объект туда можно через метод `lazy`, обратно через `collect`. Учтите, что `streaming=True` работает не со всеми операциями, применяйте с умом, это можно проверить через `pl.LazyFrame.explain(streaming=True)`"
      ]
    },
    {
      "cell_type": "code",
      "execution_count": 10,
      "metadata": {
        "colab": {
          "base_uri": "https://localhost:8080/"
        },
        "id": "OvTbmiSjEEfA",
        "outputId": "e9b1b41d-a32b-4628-9097-d5600d0d903d"
      },
      "outputs": [
        {
          "output_type": "stream",
          "name": "stdout",
          "text": [
            "Schema\n",
            "LEFT JOIN:\n",
            "LEFT PLAN ON: [col(\"timestamp\")]\n",
            "   SELECT [col(\"timestamp\").unique().sort(asc).repeat_by([dyn int: 2]).explode()] FROM\n",
            "    STREAMING:\n",
            "      DF [\"timestamp\", \"id\", \"rating\", \"18_group\"]; PROJECT 1/16 COLUMNS; SELECTION: None\n",
            "RIGHT PLAN ON: [col(\"timestamp\")]\n",
            "  DF [\"timestamp\", \"id\", \"rating\", \"18_group\"]; PROJECT */16 COLUMNS; SELECTION: None\n",
            "END LEFT JOIN\n"
          ]
        }
      ],
      "source": [
        "repeat_n = 2\n",
        "\n",
        "repeated_df = repeat_df(initial_df, repeat_n)\n",
        "print(\"Schema\")\n",
        "print(repeated_df.explain(streaming=True, optimized=True))"
      ]
    },
    {
      "cell_type": "code",
      "execution_count": 11,
      "metadata": {
        "colab": {
          "base_uri": "https://localhost:8080/"
        },
        "id": "7geBTZI6F691",
        "outputId": "4df81571-bfcb-42b0-c136-7f0bb7d964d3"
      },
      "outputs": [
        {
          "output_type": "stream",
          "name": "stdout",
          "text": [
            "722 rows\n",
            "0.2917900085449219 mb\n"
          ]
        }
      ],
      "source": [
        "# как видим, повторы работают\n",
        "repeated_df = repeated_df.collect()\n",
        "assert repeated_df.shape[0] == initial_df.shape[0] * repeat_n\n",
        "print(repeated_df.shape[0], \"rows\")\n",
        "print(repeated_df.estimated_size(\"mb\"), \"mb\")"
      ]
    },
    {
      "cell_type": "markdown",
      "metadata": {
        "id": "00wHctZJGe8s"
      },
      "source": [
        "Теперь ещё интереснее. Если бы наш датасет был не в 2 раза больше, а в 100000 раз, что бы мы делали? К счастью для нас, поларс может уместить 300кк строк всего лишь в 512Мб, и это даже не прикол, но работать с этим придётся немного иначе"
      ]
    },
    {
      "cell_type": "code",
      "execution_count": 12,
      "metadata": {
        "colab": {
          "base_uri": "https://localhost:8080/"
        },
        "id": "jm93pikEGqJi",
        "outputId": "0ff00604-748b-48cd-9ff7-267f4be2d8a8"
      },
      "outputs": [
        {
          "output_type": "stream",
          "name": "stdout",
          "text": [
            "14.245975762605667 gb\n"
          ]
        }
      ],
      "source": [
        "N = 100000\n",
        "\n",
        "df = repeat_df(initial_df, N)\n",
        "print(initial_df.estimated_size(\"gb\") * N, \"gb\")"
      ]
    },
    {
      "cell_type": "markdown",
      "metadata": {
        "id": "MGMtuNEiG-xH"
      },
      "source": [
        "Поэтому даже такая тривиальная задача, как подсчёт строк становится уже не такой простой. Про это и будет дз"
      ]
    },
    {
      "cell_type": "code",
      "execution_count": 13,
      "metadata": {
        "colab": {
          "base_uri": "https://localhost:8080/"
        },
        "id": "pKo9lSvnHlgW",
        "outputId": "b3a8d425-b617-4395-dac8-3984dc71ee65"
      },
      "outputs": [
        {
          "output_type": "stream",
          "name": "stdout",
          "text": [
            "ой, не получилось...\n"
          ]
        }
      ],
      "source": [
        "try:\n",
        "    print(df.shape[0], \"rows\")\n",
        "except AttributeError:\n",
        "    print(\"ой, не получилось...\")\n",
        "\n",
        "# df.collect().shape[0] # тоже можно, если влезет\n",
        "# len(df.collect().to_pandas()) # а такое может крашнуть ядро, попробуйте, хехе..."
      ]
    },
    {
      "cell_type": "code",
      "execution_count": 14,
      "metadata": {
        "colab": {
          "base_uri": "https://localhost:8080/"
        },
        "id": "mt-cWy3LHhvR",
        "outputId": "933338d6-5ccf-4c50-f2a2-c5ca1fccb1a2"
      },
      "outputs": [
        {
          "output_type": "stream",
          "name": "stdout",
          "text": [
            "36100000 rows\n"
          ]
        }
      ],
      "source": [
        "def lazy_len(df: pl.LazyFrame) -> int:\n",
        "    return df.select(pl.len()).collect().item()\n",
        "\n",
        "\n",
        "rows = lazy_len(df)  # намного экономнее, потому что оптимизировано под капотом\n",
        "assert rows == initial_df.shape[0] * N\n",
        "print(rows, \"rows\")"
      ]
    },
    {
      "cell_type": "markdown",
      "metadata": {
        "id": "JZd3QSTo3JKl"
      },
      "source": [
        "#### 1. [0.5 баллов] Откройте файл с таблицей (не забудьте про её формат). Выведите 3 последних строки\n",
        "\n",
        "Посмотрите на данные и скажите, что они из себя представляют, сколько в таблице строк, какие столбцы? (на это не надо отвечать, просто подумайте об этом)"
      ]
    },
    {
      "cell_type": "code",
      "source": [
        "df = df.with_columns(\n",
        "    pl.col(\"17_group\").cast(pl.Int64))"
      ],
      "metadata": {
        "id": "2C7uek4nzPgQ"
      },
      "execution_count": 15,
      "outputs": []
    },
    {
      "cell_type": "code",
      "execution_count": 16,
      "metadata": {
        "id": "FArd5QGESdyO",
        "colab": {
          "base_uri": "https://localhost:8080/"
        },
        "outputId": "ae66d0d8-0b97-41c6-cd35-65b1a0b48890"
      },
      "outputs": [
        {
          "output_type": "stream",
          "name": "stdout",
          "text": [
            "shape: (3, 16)\n",
            "┌─────────────┬─────────────┬────────┬──────────┬───┬────────────┬──────────┬─────────┬────────────┐\n",
            "│ timestamp   ┆ id          ┆ rating ┆ 18_group ┆ … ┆ percentile ┆ 17_group ┆ blended ┆ is_ml_stud │\n",
            "│ ---         ┆ ---         ┆ ---    ┆ ---      ┆   ┆ ---        ┆ ---      ┆ ---     ┆ ent        │\n",
            "│ str         ┆ str         ┆ i64    ┆ i64      ┆   ┆ f64        ┆ i64      ┆ str     ┆ ---        │\n",
            "│             ┆             ┆        ┆          ┆   ┆            ┆          ┆         ┆ bool       │\n",
            "╞═════════════╪═════════════╪════════╪══════════╪═══╪════════════╪══════════╪═════════╪════════════╡\n",
            "│ 2020-05-24  ┆ 9d19b0d5f4f ┆ 695    ┆ 188      ┆ … ┆ 0.197309   ┆ null     ┆ null    ┆ null       │\n",
            "│ 01:23:31    ┆ c8d7edc2258 ┆        ┆          ┆   ┆            ┆          ┆         ┆            │\n",
            "│             ┆ 406f872c…   ┆        ┆          ┆   ┆            ┆          ┆         ┆            │\n",
            "│ 2020-05-24  ┆ 9d19b0d5f4f ┆ 695    ┆ 188      ┆ … ┆ 0.197309   ┆ null     ┆ null    ┆ null       │\n",
            "│ 01:23:31    ┆ c8d7edc2258 ┆        ┆          ┆   ┆            ┆          ┆         ┆            │\n",
            "│             ┆ 406f872c…   ┆        ┆          ┆   ┆            ┆          ┆         ┆            │\n",
            "│ 2020-05-24  ┆ 9d19b0d5f4f ┆ 695    ┆ 188      ┆ … ┆ 0.197309   ┆ null     ┆ null    ┆ null       │\n",
            "│ 01:23:31    ┆ c8d7edc2258 ┆        ┆          ┆   ┆            ┆          ┆         ┆            │\n",
            "│             ┆ 406f872c…   ┆        ┆          ┆   ┆            ┆          ┆         ┆            │\n",
            "└─────────────┴─────────────┴────────┴──────────┴───┴────────────┴──────────┴─────────┴────────────┘\n"
          ]
        }
      ],
      "source": [
        "print(df.tail(3).collect())"
      ]
    },
    {
      "cell_type": "markdown",
      "metadata": {
        "id": "o74LHRbU3JKl"
      },
      "source": [
        "### Ответьте на вопросы:\n",
        "1. Сколько было уникальных пользователей из групп 18-го года набора, а сколько из групп 17-го года?"
      ]
    },
    {
      "cell_type": "code",
      "execution_count": 17,
      "metadata": {
        "id": "P8U67LmG3JKm",
        "colab": {
          "base_uri": "https://localhost:8080/"
        },
        "outputId": "27622ace-17c7-4229-b4d2-544f10b7552c"
      },
      "outputs": [
        {
          "output_type": "stream",
          "name": "stdout",
          "text": [
            "213 уникальных пользователей из групп 18го года набора\n",
            "134 уникальных пользователей из групп 17го года набора\n"
          ]
        }
      ],
      "source": [
        "group_18 = (df.filter(pl.col(\"18_group\").is_not_null())\n",
        "    .select(pl.col(\"id\").unique()).collect().height)\n",
        "\n",
        "group_17 = (df.filter(pl.col(\"17_group\").is_not_null())\n",
        "    .select(pl.col(\"id\").unique()).collect().height)\n",
        "\n",
        "print(group_18, \"уникальных пользователей из групп 18го года набора\")\n",
        "print(group_17, \"уникальных пользователей из групп 17го года набора\")"
      ]
    },
    {
      "cell_type": "markdown",
      "source": [
        "2. Есть ли уникальные студенты с равными перцентилями?"
      ],
      "metadata": {
        "id": "nKYih84LTNfe"
      }
    },
    {
      "cell_type": "code",
      "execution_count": 18,
      "metadata": {
        "id": "VlZxsjoO9964",
        "colab": {
          "base_uri": "https://localhost:8080/"
        },
        "outputId": "314b1b23-17f5-4b9e-f260-52f3a2a14019"
      },
      "outputs": [
        {
          "output_type": "stream",
          "name": "stdout",
          "text": [
            "да, есть: shape: (1, 2)\n",
            "┌────────────┬───────────────┐\n",
            "│ percentile ┆ cnt_unique_id │\n",
            "│ ---        ┆ ---           │\n",
            "│ f64        ┆ u32           │\n",
            "╞════════════╪═══════════════╡\n",
            "│ 0.0        ┆ 2             │\n",
            "└────────────┴───────────────┘\n"
          ]
        }
      ],
      "source": [
        "unique_student_eq = (\n",
        "    df.group_by(\"percentile\")\n",
        "    .agg(pl.col(\"id\").n_unique().alias(\"cnt_unique_id\"))\n",
        "    .filter(pl.col(\"cnt_unique_id\") > 1)\n",
        "    .collect()\n",
        ")\n",
        "\n",
        "if unique_student_eq.is_empty():\n",
        "    print(\"нет уникальных студентов с равным перцентилем\")\n",
        "else:\n",
        "    print(\"да, есть:\", unique_student_eq)"
      ]
    },
    {
      "cell_type": "markdown",
      "metadata": {
        "id": "PObB1agk3JKm"
      },
      "source": [
        "#### 2. [0.5 балла] Есть ли в данных пропуски? В каких колонках? Сколько их в каждой из этих колонок?\n",
        "\n",
        "Уникальных или нет - не столь важно"
      ]
    },
    {
      "cell_type": "code",
      "execution_count": 19,
      "metadata": {
        "id": "zmMJ5oSi3JKm",
        "colab": {
          "base_uri": "https://localhost:8080/"
        },
        "outputId": "0da7a2b7-7005-4fd5-9aa6-59b02c1156c3"
      },
      "outputs": [
        {
          "output_type": "stream",
          "name": "stdout",
          "text": [
            "есть пропуски: shape: (1, 6)\n",
            "┌──────────┬──────────┬───────────────┬──────────┬──────────┬───────────────┐\n",
            "│ 18_group ┆ is_mi    ┆ is_first_time ┆ 17_group ┆ blended  ┆ is_ml_student │\n",
            "│ ---      ┆ ---      ┆ ---           ┆ ---      ┆ ---      ┆ ---           │\n",
            "│ u32      ┆ u32      ┆ u32           ┆ u32      ┆ u32      ┆ u32           │\n",
            "╞══════════╪══════════╪═══════════════╪══════════╪══════════╪═══════════════╡\n",
            "│ 13800000 ┆ 34300000 ┆ 200000        ┆ 22300000 ┆ 22300000 ┆ 30400000      │\n",
            "└──────────┴──────────┴───────────────┴──────────┴──────────┴───────────────┘\n"
          ]
        }
      ],
      "source": [
        "passes_col = df.null_count().collect()\n",
        "\n",
        "transposed_df = passes_col.transpose(include_header=True, header_name=\"column_names\").filter(pl.col(\"column_0\") > 0)\n",
        "\n",
        "back_df = transposed_df.transpose(include_header=False)[1:].cast(pl.UInt32)\n",
        "back_df.columns = transposed_df[\"column_names\"].to_list()\n",
        "\n",
        "\n",
        "if back_df.is_empty():\n",
        "    print(\"нет пропусков\")\n",
        "else:\n",
        "    print(\"есть пропуски:\", back_df)\n",
        "\n",
        "#Альтернатива:\n",
        "#\n",
        "#transposed_df = passes_col.transpose(include_header=False).filter(pl.col(\"column_0\") > 0)\n",
        "#col_names =  passes_col.transpose(include_header=True, header_name=\"column_names\").filter(pl.col(\"column_0\") > 0)\n",
        "#\n",
        "#back_df = transposed_df.transpose(include_header=False)\n",
        "#back_df.columns = col_names[\"column_names\"].to_list()\n",
        "#\n",
        "#В таком случает не надо кастовать обратно в u32 (если это вообще необходимо)"
      ]
    },
    {
      "cell_type": "markdown",
      "metadata": {
        "id": "H0gva-uD3JKm"
      },
      "source": [
        "🔄 Преобразуйте датасет - заполните пропуски пустой строкой для строковых колонок, нулём для числовых и False для булевых (постарайтесь избежать перечисления названий всех столбцов)."
      ]
    },
    {
      "cell_type": "code",
      "execution_count": 20,
      "metadata": {
        "id": "1WOBP3Yx3JKm",
        "colab": {
          "base_uri": "https://localhost:8080/"
        },
        "outputId": "874f13b1-6203-4a37-fa76-efea2377237d"
      },
      "outputs": [
        {
          "output_type": "stream",
          "name": "stdout",
          "text": [
            "shape: (36_100_000, 16)\n",
            "┌─────────────┬─────────────┬────────┬──────────┬───┬────────────┬──────────┬─────────┬────────────┐\n",
            "│ timestamp   ┆ id          ┆ rating ┆ 18_group ┆ … ┆ percentile ┆ 17_group ┆ blended ┆ is_ml_stud │\n",
            "│ ---         ┆ ---         ┆ ---    ┆ ---      ┆   ┆ ---        ┆ ---      ┆ ---     ┆ ent        │\n",
            "│ str         ┆ str         ┆ i64    ┆ i64      ┆   ┆ f64        ┆ i64      ┆ str     ┆ ---        │\n",
            "│             ┆             ┆        ┆          ┆   ┆            ┆          ┆         ┆ bool       │\n",
            "╞═════════════╪═════════════╪════════╪══════════╪═══╪════════════╪══════════╪═════════╪════════════╡\n",
            "│ 2020-05-14  ┆ d555d2805e1 ┆ 996    ┆ 0        ┆ … ┆ 0.963768   ┆ 172      ┆ DevOps  ┆ false      │\n",
            "│ 20:23:21    ┆ d93d4f023e5 ┆        ┆          ┆   ┆            ┆          ┆         ┆            │\n",
            "│             ┆ 7dc4c8f4…   ┆        ┆          ┆   ┆            ┆          ┆         ┆            │\n",
            "│ 2020-05-14  ┆ d555d2805e1 ┆ 996    ┆ 0        ┆ … ┆ 0.963768   ┆ 172      ┆ DevOps  ┆ false      │\n",
            "│ 20:23:21    ┆ d93d4f023e5 ┆        ┆          ┆   ┆            ┆          ┆         ┆            │\n",
            "│             ┆ 7dc4c8f4…   ┆        ┆          ┆   ┆            ┆          ┆         ┆            │\n",
            "│ 2020-05-14  ┆ d555d2805e1 ┆ 996    ┆ 0        ┆ … ┆ 0.963768   ┆ 172      ┆ DevOps  ┆ false      │\n",
            "│ 20:23:21    ┆ d93d4f023e5 ┆        ┆          ┆   ┆            ┆          ┆         ┆            │\n",
            "│             ┆ 7dc4c8f4…   ┆        ┆          ┆   ┆            ┆          ┆         ┆            │\n",
            "│ 2020-05-14  ┆ d555d2805e1 ┆ 996    ┆ 0        ┆ … ┆ 0.963768   ┆ 172      ┆ DevOps  ┆ false      │\n",
            "│ 20:23:21    ┆ d93d4f023e5 ┆        ┆          ┆   ┆            ┆          ┆         ┆            │\n",
            "│             ┆ 7dc4c8f4…   ┆        ┆          ┆   ┆            ┆          ┆         ┆            │\n",
            "│ 2020-05-14  ┆ d555d2805e1 ┆ 996    ┆ 0        ┆ … ┆ 0.963768   ┆ 172      ┆ DevOps  ┆ false      │\n",
            "│ 20:23:21    ┆ d93d4f023e5 ┆        ┆          ┆   ┆            ┆          ┆         ┆            │\n",
            "│             ┆ 7dc4c8f4…   ┆        ┆          ┆   ┆            ┆          ┆         ┆            │\n",
            "│ …           ┆ …           ┆ …      ┆ …        ┆ … ┆ …          ┆ …        ┆ …       ┆ …          │\n",
            "│ 2020-05-24  ┆ 9d19b0d5f4f ┆ 695    ┆ 188      ┆ … ┆ 0.197309   ┆ 0        ┆         ┆ false      │\n",
            "│ 01:23:31    ┆ c8d7edc2258 ┆        ┆          ┆   ┆            ┆          ┆         ┆            │\n",
            "│             ┆ 406f872c…   ┆        ┆          ┆   ┆            ┆          ┆         ┆            │\n",
            "│ 2020-05-24  ┆ 9d19b0d5f4f ┆ 695    ┆ 188      ┆ … ┆ 0.197309   ┆ 0        ┆         ┆ false      │\n",
            "│ 01:23:31    ┆ c8d7edc2258 ┆        ┆          ┆   ┆            ┆          ┆         ┆            │\n",
            "│             ┆ 406f872c…   ┆        ┆          ┆   ┆            ┆          ┆         ┆            │\n",
            "│ 2020-05-24  ┆ 9d19b0d5f4f ┆ 695    ┆ 188      ┆ … ┆ 0.197309   ┆ 0        ┆         ┆ false      │\n",
            "│ 01:23:31    ┆ c8d7edc2258 ┆        ┆          ┆   ┆            ┆          ┆         ┆            │\n",
            "│             ┆ 406f872c…   ┆        ┆          ┆   ┆            ┆          ┆         ┆            │\n",
            "│ 2020-05-24  ┆ 9d19b0d5f4f ┆ 695    ┆ 188      ┆ … ┆ 0.197309   ┆ 0        ┆         ┆ false      │\n",
            "│ 01:23:31    ┆ c8d7edc2258 ┆        ┆          ┆   ┆            ┆          ┆         ┆            │\n",
            "│             ┆ 406f872c…   ┆        ┆          ┆   ┆            ┆          ┆         ┆            │\n",
            "│ 2020-05-24  ┆ 9d19b0d5f4f ┆ 695    ┆ 188      ┆ … ┆ 0.197309   ┆ 0        ┆         ┆ false      │\n",
            "│ 01:23:31    ┆ c8d7edc2258 ┆        ┆          ┆   ┆            ┆          ┆         ┆            │\n",
            "│             ┆ 406f872c…   ┆        ┆          ┆   ┆            ┆          ┆         ┆            │\n",
            "└─────────────┴─────────────┴────────┴──────────┴───┴────────────┴──────────┴─────────┴────────────┘\n"
          ]
        }
      ],
      "source": [
        "df = df.fill_null(strategy=\"zero\").lazy()\n",
        "\n",
        "print(df.collect())"
      ]
    },
    {
      "cell_type": "markdown",
      "metadata": {
        "id": "a0TfG6CY3JKn"
      },
      "source": [
        "#### 3. [0.5 балла] Посмотрите повнимательнее на колонку 'is_first_time'.\n",
        "\n",
        "Каково процентное соотношение ответов? Сколько из них \"Нет\"?"
      ]
    },
    {
      "cell_type": "code",
      "execution_count": 21,
      "metadata": {
        "id": "wGolS2eY3JKn",
        "colab": {
          "base_uri": "https://localhost:8080/"
        },
        "outputId": "40be01ba-5557-42f1-9f81-1bb45e141392"
      },
      "outputs": [
        {
          "output_type": "stream",
          "name": "stdout",
          "text": [
            "shape: (3, 3)\n",
            "┌───────────────┬─────────────┬───────────┐\n",
            "│ is_first_time ┆ tipes_count ┆ percent   │\n",
            "│ ---           ┆ ---         ┆ ---       │\n",
            "│ str           ┆ u32         ┆ f64       │\n",
            "╞═══════════════╪═════════════╪═══════════╡\n",
            "│               ┆ 200000      ┆ 0.554017  │\n",
            "│ Нет           ┆ 5100000     ┆ 14.127424 │\n",
            "│ Да            ┆ 30800000    ┆ 85.31856  │\n",
            "└───────────────┴─────────────┴───────────┘\n",
            "Ответов 'Нет': 14.127423822714679 процентов\n"
          ]
        }
      ],
      "source": [
        "ratio = (\n",
        "    df.group_by(\"is_first_time\")\n",
        "    .agg(pl.len().alias(\"tipes_count\"))\n",
        "    .with_columns((pl.col(\"tipes_count\") / pl.col(\"tipes_count\").sum() * 100).alias(\"percent\"))\n",
        "    .lazy()\n",
        "    .collect()\n",
        ")\n",
        "\n",
        "percent_no = ratio.filter(pl.col(\"is_first_time\") == \"Нет\")[\"percent\"].item(0)\n",
        "\n",
        "print(ratio)\n",
        "print(f\"Ответов 'Нет': {percent_no} процентов\")"
      ]
    },
    {
      "cell_type": "markdown",
      "metadata": {
        "id": "ffyqq0ilf0pv"
      },
      "source": [
        "🔄 Оставьте только самую позднюю версию обращений студентов и сохраните изменения"
      ]
    },
    {
      "cell_type": "code",
      "source": [
        "df = df.unique(subset=[\"id\"], keep=\"last\")\n",
        "print(df.collect())"
      ],
      "metadata": {
        "colab": {
          "base_uri": "https://localhost:8080/"
        },
        "id": "fJ_tlGzotGbK",
        "outputId": "6f95a78b-48fd-4a5d-9db4-e7d3ea51e701"
      },
      "execution_count": 22,
      "outputs": [
        {
          "output_type": "stream",
          "name": "stdout",
          "text": [
            "shape: (347, 16)\n",
            "┌────────────┬────────────┬────────┬──────────┬───┬────────────┬──────────┬────────────┬───────────┐\n",
            "│ timestamp  ┆ id         ┆ rating ┆ 18_group ┆ … ┆ percentile ┆ 17_group ┆ blended    ┆ is_ml_stu │\n",
            "│ ---        ┆ ---        ┆ ---    ┆ ---      ┆   ┆ ---        ┆ ---      ┆ ---        ┆ dent      │\n",
            "│ str        ┆ str        ┆ i64    ┆ i64      ┆   ┆ f64        ┆ i64      ┆ str        ┆ ---       │\n",
            "│            ┆            ┆        ┆          ┆   ┆            ┆          ┆            ┆ bool      │\n",
            "╞════════════╪════════════╪════════╪══════════╪═══╪════════════╪══════════╪════════════╪═══════════╡\n",
            "│ 2020-05-18 ┆ 07b6ce7fd9 ┆ 1160   ┆ 0        ┆ … ┆ 0.485507   ┆ 176      ┆ DevOps     ┆ false     │\n",
            "│ 23:10:45   ┆ 3bde95ce5f ┆        ┆          ┆   ┆            ┆          ┆            ┆           │\n",
            "│            ┆ e14a5131a9 ┆        ┆          ┆   ┆            ┆          ┆            ┆           │\n",
            "│            ┆ …          ┆        ┆          ┆   ┆            ┆          ┆            ┆           │\n",
            "│ 2020-05-18 ┆ 4ab8340cfb ┆ 683    ┆ 182      ┆ … ┆ 0.255605   ┆ 0        ┆            ┆ true      │\n",
            "│ 23:43:04   ┆ 08da86c14a ┆        ┆          ┆   ┆            ┆          ┆            ┆           │\n",
            "│            ┆ 2cc3c3fad9 ┆        ┆          ┆   ┆            ┆          ┆            ┆           │\n",
            "│            ┆ …          ┆        ┆          ┆   ┆            ┆          ┆            ┆           │\n",
            "│ 2020-05-17 ┆ ef8c6afd95 ┆ 522    ┆ 183      ┆ … ┆ 0.964126   ┆ 0        ┆            ┆ false     │\n",
            "│ 18:45:15   ┆ 8da5f51429 ┆        ┆          ┆   ┆            ┆          ┆            ┆           │\n",
            "│            ┆ 948f090432 ┆        ┆          ┆   ┆            ┆          ┆            ┆           │\n",
            "│            ┆ …          ┆        ┆          ┆   ┆            ┆          ┆            ┆           │\n",
            "│ 2020-05-18 ┆ bfe75c08c6 ┆ 758    ┆ 182      ┆ … ┆ 0.022422   ┆ 0        ┆            ┆ true      │\n",
            "│ 17:22:56   ┆ b7e31d4e7d ┆        ┆          ┆   ┆            ┆          ┆            ┆           │\n",
            "│            ┆ 48c9c5fed6 ┆        ┆          ┆   ┆            ┆          ┆            ┆           │\n",
            "│            ┆ …          ┆        ┆          ┆   ┆            ┆          ┆            ┆           │\n",
            "│ 2020-05-18 ┆ 25a3ce0eea ┆ 644    ┆ 183      ┆ … ┆ 0.439462   ┆ 0        ┆            ┆ false     │\n",
            "│ 21:10:54   ┆ 214df2aa6d ┆        ┆          ┆   ┆            ┆          ┆            ┆           │\n",
            "│            ┆ 25d395d594 ┆        ┆          ┆   ┆            ┆          ┆            ┆           │\n",
            "│            ┆ …          ┆        ┆          ┆   ┆            ┆          ┆            ┆           │\n",
            "│ …          ┆ …          ┆ …      ┆ …        ┆ … ┆ …          ┆ …        ┆ …          ┆ …         │\n",
            "│ 2020-05-18 ┆ 5d9b916c90 ┆ 687    ┆ 186      ┆ … ┆ 0.237668   ┆ 0        ┆            ┆ true      │\n",
            "│ 22:52:21   ┆ c54a5cba29 ┆        ┆          ┆   ┆            ┆          ┆            ┆           │\n",
            "│            ┆ b2618a029e ┆        ┆          ┆   ┆            ┆          ┆            ┆           │\n",
            "│            ┆ …          ┆        ┆          ┆   ┆            ┆          ┆            ┆           │\n",
            "│ 2020-05-18 ┆ b3e75ee2a7 ┆ 560    ┆ 187      ┆ … ┆ 0.829596   ┆ 0        ┆            ┆ false     │\n",
            "│ 21:38:00   ┆ 08cef65cc2 ┆        ┆          ┆   ┆            ┆          ┆            ┆           │\n",
            "│            ┆ f80da894dd ┆        ┆          ┆   ┆            ┆          ┆            ┆           │\n",
            "│            ┆ …          ┆        ┆          ┆   ┆            ┆          ┆            ┆           │\n",
            "│ 2020-05-17 ┆ fc8b84c5df ┆ 1204   ┆ 0        ┆ … ┆ 0.304348   ┆ 171      ┆ DevOps     ┆ false     │\n",
            "│ 14:43:12   ┆ 1ea8bf6e5d ┆        ┆          ┆   ┆            ┆          ┆            ┆           │\n",
            "│            ┆ a51945124d ┆        ┆          ┆   ┆            ┆          ┆            ┆           │\n",
            "│            ┆ …          ┆        ┆          ┆   ┆            ┆          ┆            ┆           │\n",
            "│ 2020-05-17 ┆ 674d6e333a ┆ 1098   ┆ 0        ┆ … ┆ 0.710145   ┆ 172      ┆ DevOps     ┆ false     │\n",
            "│ 14:54:06   ┆ 907d65780e ┆        ┆          ┆   ┆            ┆          ┆            ┆           │\n",
            "│            ┆ 9618436f19 ┆        ┆          ┆   ┆            ┆          ┆            ┆           │\n",
            "│            ┆ …          ┆        ┆          ┆   ┆            ┆          ┆            ┆           │\n",
            "│ 2020-05-17 ┆ 976376a468 ┆ 1167   ┆ 0        ┆ … ┆ 0.449275   ┆ 171      ┆ Соревноват ┆ false     │\n",
            "│ 16:35:49   ┆ b8f4d1e3c4 ┆        ┆          ┆   ┆            ┆          ┆ ельный     ┆           │\n",
            "│            ┆ 8f7acb29c2 ┆        ┆          ┆   ┆            ┆          ┆ анализ     ┆           │\n",
            "│            ┆ …          ┆        ┆          ┆   ┆            ┆          ┆ данных     ┆           │\n",
            "└────────────┴────────────┴────────┴──────────┴───┴────────────┴──────────┴────────────┴───────────┘\n"
          ]
        }
      ]
    },
    {
      "cell_type": "markdown",
      "metadata": {
        "id": "EXTt7DAJ3JKn"
      },
      "source": [
        "#### 4. [0.5 балла] Какие  blended-курсы для четверокурсников существуют? На какой blended-курс записалось наибольшее количество студентов? На каком из курсов собрались студенты с самым высоким средним рейтингом?"
      ]
    },
    {
      "cell_type": "code",
      "execution_count": 23,
      "metadata": {
        "id": "gJ0SzAfheBBi",
        "colab": {
          "base_uri": "https://localhost:8080/"
        },
        "outputId": "e4380f22-23b5-480d-eb9c-ae7abf05c966"
      },
      "outputs": [
        {
          "output_type": "stream",
          "name": "stdout",
          "text": [
            "blended-курсы для четверокурсников: shape: (3, 1)\n",
            "┌─────────────────────────────────┐\n",
            "│ blended                         │\n",
            "│ ---                             │\n",
            "│ str                             │\n",
            "╞═════════════════════════════════╡\n",
            "│ Введение в дифференциальную ге… │\n",
            "│ Соревновательный анализ данных  │\n",
            "│ DevOps                          │\n",
            "└─────────────────────────────────┘\n",
            "Курс с наибольшим количеством студентов: shape: (1, 1)\n",
            "┌─────────┐\n",
            "│ blended │\n",
            "│ ---     │\n",
            "│ str     │\n",
            "╞═════════╡\n",
            "│ DevOps  │\n",
            "└─────────┘\n",
            "Курс с самым высоким средним рейтингом студентов: shape: (1, 1)\n",
            "┌─────────────────────────────────┐\n",
            "│ blended                         │\n",
            "│ ---                             │\n",
            "│ str                             │\n",
            "╞═════════════════════════════════╡\n",
            "│ Введение в дифференциальную ге… │\n",
            "└─────────────────────────────────┘\n"
          ]
        }
      ],
      "source": [
        "students_4_course = df.filter(\n",
        "    (pl.col(\"17_group\").is_not_null()) & (pl.col(\"blended\") != \"\")\n",
        ")\n",
        "\n",
        "blended_courses = (\n",
        "    students_4_course.select(\"blended\").unique().collect()\n",
        ")\n",
        "\n",
        "most_cnt_course = (\n",
        "    students_4_course.group_by(\"blended\")\n",
        "    .agg(pl.len().alias(\"cnt_students\"))\n",
        "    .sort(\"cnt_students\", descending=True)\n",
        "    .first()\n",
        "    .select(\"blended\")\n",
        "    .collect()\n",
        ")\n",
        "\n",
        "most_rating_course = (\n",
        "    students_4_course.group_by(\"blended\")\n",
        "    .agg(pl.col(\"rating\").mean().alias(\"avg_rating\"))\n",
        "    .sort(\"avg_rating\", descending=True)\n",
        "    .first()\n",
        "    .select(\"blended\")\n",
        "    .collect()\n",
        ")\n",
        "\n",
        "print(\"blended-курсы для четверокурсников:\", blended_courses)\n",
        "print(\"Курс с наибольшим количеством студентов:\", most_cnt_course)\n",
        "print(\"Курс с самым высоким средним рейтингом студентов:\", most_rating_course)"
      ]
    },
    {
      "cell_type": "markdown",
      "metadata": {
        "id": "afbGGxV73JKn"
      },
      "source": [
        "#### 5. [1 балл] Выясните, есть ли студенты с абсолютно одинаковыми предпочтениями по всем курсам.\n",
        "\n",
        "Для этого сформируйте таблицу, где для каждого возможного набора курсов посчитано количество студентов, выбравших такой набор, и оставьте только строки где это количество больше 1.\n",
        "\n",
        "В данном случае набор курсов задается упорядоченным множеством ('fall_1', 'fall_2', 'fall_3', 'spring_1', 'spring_2', 'spring_3', 'blended'). Элемент blended будет нулевым для 3-го курса."
      ]
    },
    {
      "cell_type": "code",
      "execution_count": 24,
      "metadata": {
        "id": "fNXhoAMw3JKn",
        "colab": {
          "base_uri": "https://localhost:8080/"
        },
        "outputId": "f1199c68-7233-4a57-8743-0717a5a199bf"
      },
      "outputs": [
        {
          "output_type": "stream",
          "name": "stdout",
          "text": [
            "shape: (15, 8)\n",
            "┌────────────┬────────────┬────────────┬────────────┬────────────┬───────────┬─────────┬───────────┐\n",
            "│ fall_1     ┆ fall_2     ┆ fall_3     ┆ spring_1   ┆ spring_2   ┆ spring_3  ┆ blended ┆ count_stu │\n",
            "│ ---        ┆ ---        ┆ ---        ┆ ---        ┆ ---        ┆ ---       ┆ ---     ┆ dents     │\n",
            "│ str        ┆ str        ┆ str        ┆ str        ┆ str        ┆ str       ┆ str     ┆ ---       │\n",
            "│            ┆            ┆            ┆            ┆            ┆           ┆         ┆ u32       │\n",
            "╞════════════╪════════════╪════════════╪════════════╪════════════╪═══════════╪═════════╪═══════════╡\n",
            "│ Безопаснос ┆ Высокопрои ┆ Анализ нес ┆ Проектиров ┆ Методы     ┆ Конфликты ┆ DevOps  ┆ 2         │\n",
            "│ ть компьют ┆ зводительн ┆ труктуриро ┆ ание и     ┆ сжатия и   ┆ и коопера ┆         ┆           │\n",
            "│ ерных      ┆ ые         ┆ ванных     ┆ разработка ┆ передачи   ┆ ция       ┆         ┆           │\n",
            "│ сист…      ┆ вычисле…   ┆ дан…       ┆ вы…        ┆ медиа…     ┆           ┆         ┆           │\n",
            "│ Байесовски ┆ Анализ нес ┆ Сбор и     ┆ Обучение с ┆ Компьютерн ┆ Генератив ┆ DevOps  ┆ 2         │\n",
            "│ е методы   ┆ труктуриро ┆ обработка  ┆ подкреплен ┆ ое зрение  ┆ ные       ┆         ┆           │\n",
            "│ машинного  ┆ ванных     ┆ данных с   ┆ ием        ┆            ┆ модели в  ┆         ┆           │\n",
            "│ о…         ┆ дан…       ┆ помо…      ┆            ┆            ┆ машинном… ┆         ┆           │\n",
            "│ Безопаснос ┆ Матричные  ┆ Моделирова ┆ Промышленн ┆ Компьютерн ┆ Дискретна ┆         ┆ 2         │\n",
            "│ ть компьют ┆ вычисления ┆ ние        ┆ ое програм ┆ ые сети    ┆ я оптимиз ┆         ┆           │\n",
            "│ ерных      ┆            ┆ временных  ┆ мирование  ┆            ┆ ация      ┆         ┆           │\n",
            "│ сист…      ┆            ┆ рядов      ┆ …          ┆            ┆           ┆         ┆           │\n",
            "│ Язык SQL   ┆ Высокопрои ┆ Теория баз ┆ Компьютерн ┆ Промышленн ┆ Дискретна ┆         ┆ 2         │\n",
            "│            ┆ зводительн ┆ данных     ┆ ые сети    ┆ ое програм ┆ я оптимиз ┆         ┆           │\n",
            "│            ┆ ые         ┆            ┆            ┆ мирование  ┆ ация      ┆         ┆           │\n",
            "│            ┆ вычисле…   ┆            ┆            ┆ …          ┆           ┆         ┆           │\n",
            "│ Безопаснос ┆ Высокопрои ┆ Язык SQL   ┆ Промышленн ┆ Компьютерн ┆ Системы   ┆         ┆ 2         │\n",
            "│ ть компьют ┆ зводительн ┆            ┆ ое програм ┆ ые сети    ┆ баз       ┆         ┆           │\n",
            "│ ерных      ┆ ые         ┆            ┆ мирование  ┆            ┆ данных    ┆         ┆           │\n",
            "│ сист…      ┆ вычисле…   ┆            ┆ …          ┆            ┆           ┆         ┆           │\n",
            "│ …          ┆ …          ┆ …          ┆ …          ┆ …          ┆ …         ┆ …       ┆ …         │\n",
            "│ Моделирова ┆ Сбор и     ┆ Безопаснос ┆ Компьютерн ┆ Дополнител ┆ Системы   ┆         ┆ 2         │\n",
            "│ ние        ┆ обработка  ┆ ть компьют ┆ ые сети    ┆ ьные главы ┆ баз       ┆         ┆           │\n",
            "│ временных  ┆ данных с   ┆ ерных      ┆            ┆ прикладно… ┆ данных    ┆         ┆           │\n",
            "│ рядов      ┆ помо…      ┆ сист…      ┆            ┆            ┆           ┆         ┆           │\n",
            "│ Сбор и     ┆ Язык SQL   ┆ Теория баз ┆ Промышленн ┆ Машинное   ┆ Компьютер ┆         ┆ 2         │\n",
            "│ обработка  ┆            ┆ данных     ┆ ое програм ┆ обучение 2 ┆ ные сети  ┆         ┆           │\n",
            "│ данных с   ┆            ┆            ┆ мирование  ┆            ┆           ┆         ┆           │\n",
            "│ помо…      ┆            ┆            ┆ …          ┆            ┆           ┆         ┆           │\n",
            "│ Безопаснос ┆ Statistica ┆ Матричные  ┆ Дискретная ┆ Промышленн ┆ Дополните ┆         ┆ 3         │\n",
            "│ ть компьют ┆ l Learning ┆ вычисления ┆ оптимизаци ┆ ое програм ┆ льные     ┆         ┆           │\n",
            "│ ерных      ┆ Theory     ┆            ┆ я          ┆ мирование  ┆ главы при ┆         ┆           │\n",
            "│ сист…      ┆            ┆            ┆            ┆ …          ┆ кладно…   ┆         ┆           │\n",
            "│ Высокопрои ┆ Сбор и     ┆ Моделирова ┆ Проектиров ┆ Методы     ┆ Методы    ┆ DevOps  ┆ 2         │\n",
            "│ зводительн ┆ обработка  ┆ ние        ┆ ание и     ┆ сжатия и   ┆ сжатия и  ┆         ┆           │\n",
            "│ ые         ┆ данных с   ┆ временных  ┆ разработка ┆ передачи   ┆ передачи  ┆         ┆           │\n",
            "│ вычисле…   ┆ помо…      ┆ рядов      ┆ вы…        ┆ медиа…     ┆ медиа…    ┆         ┆           │\n",
            "│ Безопаснос ┆ Высокопрои ┆ Язык SQL   ┆ Компьютерн ┆ Промышленн ┆ Дискретна ┆         ┆ 3         │\n",
            "│ ть компьют ┆ зводительн ┆            ┆ ые сети    ┆ ое програм ┆ я оптимиз ┆         ┆           │\n",
            "│ ерных      ┆ ые         ┆            ┆            ┆ мирование  ┆ ация      ┆         ┆           │\n",
            "│ сист…      ┆ вычисле…   ┆            ┆            ┆ …          ┆           ┆         ┆           │\n",
            "└────────────┴────────────┴────────────┴────────────┴────────────┴───────────┴─────────┴───────────┘\n"
          ]
        }
      ],
      "source": [
        "course_columns = [\"fall_1\", \"fall_2\", \"fall_3\", \"spring_1\", \"spring_2\", \"spring_3\", \"blended\"]\n",
        "\n",
        "cnt_students_course_combination = (\n",
        "    df.group_by(course_columns)\n",
        "    .agg(pl.len().alias(\"count_students\"))\n",
        "    .filter(pl.col(\"count_students\") > 1)\n",
        "    .collect()\n",
        ")\n",
        "\n",
        "print(cnt_students_course_combination)"
      ]
    },
    {
      "cell_type": "markdown",
      "metadata": {
        "id": "JU0vq96o3JKo"
      },
      "source": [
        "#### 6. [0.5 балла] Найдите курсы по выбору, на которые записывались как студенты 18-го года набора, так и студенты 17-го года."
      ]
    },
    {
      "cell_type": "code",
      "execution_count": 25,
      "metadata": {
        "id": "xIrynPwgesQU",
        "colab": {
          "base_uri": "https://localhost:8080/"
        },
        "outputId": "3970176f-9bcc-435c-8eb1-2fa6da7faebd"
      },
      "outputs": [
        {
          "output_type": "stream",
          "name": "stdout",
          "text": [
            "shape: (7, 1)\n",
            "┌─────────────────────────────────┐\n",
            "│ course                          │\n",
            "│ ---                             │\n",
            "│ str                             │\n",
            "╞═════════════════════════════════╡\n",
            "│ Высокопроизводительные вычисле… │\n",
            "│ Statistical Learning Theory     │\n",
            "│ Сбор и обработка данных с помо… │\n",
            "│ Моделирование временных рядов   │\n",
            "│ Численные методы                │\n",
            "│ Принятие решений в условиях ри… │\n",
            "│ Безопасность компьютерных сист… │\n",
            "└─────────────────────────────────┘\n"
          ]
        }
      ],
      "source": [
        "unpivoted_df = df.lazy().unpivot(\n",
        "        index=[\"17_group\", \"18_group\"],\n",
        "        on=[\"fall_1\", \"fall_2\", \"fall_3\", \"spring_1\", \"spring_2\", \"spring_3\", \"blended\"],\n",
        "        variable_name=\"course_type\",\n",
        "        value_name=\"course\"\n",
        "    )\n",
        "cnt_df = unpivoted_df.group_by(\"course\").agg([\n",
        "    pl.col(\"17_group\").sum().alias(\"count_students17\"),\n",
        "    pl.col(\"18_group\").sum().alias(\"count_students18\")\n",
        "])\n",
        "\n",
        "common = cnt_df.filter(\n",
        "    (pl.col(\"count_students17\") > 0) & (pl.col(\"count_students18\") > 0)\n",
        ").select(pl.col(\"course\")).collect()\n",
        "\n",
        "print(common)"
      ]
    },
    {
      "cell_type": "markdown",
      "metadata": {
        "id": "NMkajSaI3JKr"
      },
      "source": [
        "Методом исключения найдите курсы, которые предлагались только студентам 18-го года и только студентам 17-го года."
      ]
    },
    {
      "cell_type": "code",
      "execution_count": 26,
      "metadata": {
        "id": "enzNaFLP3JKs",
        "colab": {
          "base_uri": "https://localhost:8080/"
        },
        "outputId": "b48e9f45-41ee-4557-8dcb-0c97ed462d44"
      },
      "outputs": [
        {
          "output_type": "stream",
          "name": "stdout",
          "text": [
            "Курсы только для студентов 18-го года: shape: (11, 1)\n",
            "┌─────────────────────────────────┐\n",
            "│ course                          │\n",
            "│ ---                             │\n",
            "│ str                             │\n",
            "╞═════════════════════════════════╡\n",
            "│ Компьютерные сети               │\n",
            "│ Матричные вычисления            │\n",
            "│ Дискретная оптимизация          │\n",
            "│ Машинное обучение 2             │\n",
            "│                                 │\n",
            "│ …                               │\n",
            "│ Дополнительные главы прикладно… │\n",
            "│ Системы баз данных              │\n",
            "│ Язык SQL                        │\n",
            "│ Теория баз данных               │\n",
            "│ Анализ данных в бизнесе         │\n",
            "└─────────────────────────────────┘\n",
            "Курсы только для студентов 17-го года: shape: (13, 1)\n",
            "┌─────────────────────────────────┐\n",
            "│ course                          │\n",
            "│ ---                             │\n",
            "│ str                             │\n",
            "╞═════════════════════════════════╡\n",
            "│ Соревновательный анализ данных  │\n",
            "│ Генеративные модели в машинном… │\n",
            "│ Проектирование и разработка вы… │\n",
            "│ Введение в дифференциальную ге… │\n",
            "│ Анализ неструктурированных дан… │\n",
            "│ …                               │\n",
            "│ Обучение с подкреплением        │\n",
            "│ Конфликты и кооперация          │\n",
            "│ Байесовские методы машинного о… │\n",
            "│ Компьютерное зрение             │\n",
            "│ Символьные вычисления           │\n",
            "└─────────────────────────────────┘\n"
          ]
        }
      ],
      "source": [
        "only_18_courses = cnt_df.filter(\n",
        "    (pl.col(\"count_students17\") == 0) & (pl.col(\"count_students18\") > 0)\n",
        ").select(\"course\").collect()\n",
        "\n",
        "only_17_courses = cnt_df.filter(\n",
        "    (pl.col(\"count_students17\") > 0) & (pl.col(\"count_students18\") == 0)\n",
        ").select(\"course\").collect()\n",
        "\n",
        "print(\"Курсы только для студентов 18-го года:\", only_18_courses)\n",
        "print(\"Курсы только для студентов 17-го года:\", only_17_courses)"
      ]
    },
    {
      "cell_type": "markdown",
      "metadata": {
        "id": "c5TmcNdI3JKs"
      },
      "source": [
        "### Визуализации"
      ]
    },
    {
      "cell_type": "markdown",
      "metadata": {
        "id": "74juA0bp3JKs"
      },
      "source": [
        "При работе с данными часто неудобно делать какие-то выводы, если смотреть на таблицу и числа в частности, поэтому важно уметь визуализировать данные. Здесь будут описаны ключевые правила оформления графиков для **всех** домашних заданий.\n",
        "\n",
        "У matplotlib, конечно же, есть [документация](https://matplotlib.org/users/index.html) с большим количеством [примеров](https://matplotlib.org/examples/), но для начала достаточно знать про несколько основных типов графиков:\n",
        "- plot — обычный поточечный график, которым можно изображать кривые или отдельные точки;\n",
        "- hist — гистограмма, показывающая распределение некоторой величины;\n",
        "- scatter — график, показывающий взаимосвязь двух величин;\n",
        "- bar — столбцовый график, показывающий взаимосвязь количественной величины от категориальной.\n",
        "\n",
        "В этом задании вы попробуете построить один из них. Не забывайте про базовые принципы построения приличных графиков:\n",
        "- оси должны быть подписаны, причём не слишком мелко;\n",
        "- у графика должно быть название;\n",
        "- если изображено несколько графиков, то необходима поясняющая легенда;\n",
        "- все линии на графиках должны быть чётко видны (нет похожих цветов или цветов, сливающихся с фоном);\n",
        "- если возможно сделать график интерактивным, это обычно того стоит - помогает решить проблемы с читаемостью;\n",
        "- если отображена величина, имеющая очевидный диапазон значений (например, проценты могут быть от 0 до 100), то желательно масштабировать ось на весь диапазон значений (исключением является случай, когда вам необходимо показать малое отличие, которое незаметно в таких масштабах);\n",
        "- сетка на графике помогает оценить значения в точках на глаз, это обычно полезно, поэтому лучше ее отрисовывать;\n",
        "- если распределение на гистограмме имеет тяжёлые хвосты, лучше использовать логарифмическую шкалу.\n",
        "\n",
        "Еще одна билиотека для визуализации: [seaborn](https://jakevdp.github.io/PythonDataScienceHandbook/04.14-visualization-with-seaborn.html). Это настройка над matplotlib, иногда удобнее и красивее делать визуализации через неё.\n",
        "\n",
        "У `polars` уже есть встроенные инструменты для визуализации, в частности интерактивные на базе [hvplot](https://docs.pola.rs/user-guide/misc/visualization/#plotly). Из её преимуществ - хорошая производительность при работе с большими данными, есть поддержка самых популярных видов графиков, но синтаксис не самый удобный"
      ]
    },
    {
      "cell_type": "markdown",
      "metadata": {
        "id": "QkH7afPm3JKs"
      },
      "source": [
        "#### 7. [0.5 балла] Постройте график средних рейтингов по дням получения ответов (bar plot)."
      ]
    },
    {
      "cell_type": "code",
      "execution_count": 27,
      "metadata": {
        "id": "bQ3_dsZP3JKs",
        "colab": {
          "base_uri": "https://localhost:8080/",
          "height": 607
        },
        "outputId": "698daf2b-e22e-44f3-fe0f-886d4d51999d"
      },
      "outputs": [
        {
          "output_type": "display_data",
          "data": {
            "text/plain": [
              "<Figure size 1000x600 with 1 Axes>"
            ],
            "image/png": "[encoded data removed]"
          },
          "metadata": {}
        }
      ],
      "source": [
        "import matplotlib.pyplot as plt\n",
        "\n",
        "date_df = df.with_columns(\n",
        "    pl.col(\"timestamp\").str.strptime(pl.Datetime, format=\"%Y-%m-%d %H:%M:%S\").dt.date().alias(\"date\")\n",
        ")\n",
        "\n",
        "avg_ratings = (\n",
        "    date_df.group_by(\"date\").agg(pl.col(\"rating\").mean().alias(\"avg_rating\"))\n",
        "    .sort(\"date\")\n",
        "    .collect()\n",
        ")\n",
        "\n",
        "avg_ratings = avg_ratings.with_columns(pl.col(\"date\").cast(pl.Utf8))\n",
        "\n",
        "plt.figure(figsize=(10, 6))\n",
        "plt.bar(avg_ratings[\"date\"], avg_ratings[\"avg_rating\"])\n",
        "plt.xlabel(\"Дата\")\n",
        "plt.ylabel(\"Средний рейтинг\")\n",
        "plt.title(\"Средний рейтинг по дням\")\n",
        "\n",
        "plt.xticks(rotation=40)\n",
        "plt.tight_layout()\n",
        "\n",
        "plt.show()"
      ]
    },
    {
      "cell_type": "markdown",
      "metadata": {
        "id": "bZB_kTE63JKs"
      },
      "source": [
        "Сохраните график в формате pdf (так он останется векторизованным) или html (тогда останется интерактивным)"
      ]
    },
    {
      "cell_type": "code",
      "execution_count": 28,
      "metadata": {
        "id": "35bHvSsV3JKt",
        "colab": {
          "base_uri": "https://localhost:8080/",
          "height": 34
        },
        "outputId": "56a189c1-55ec-4838-aa64-3b5d2c35c33a"
      },
      "outputs": [
        {
          "output_type": "display_data",
          "data": {
            "text/plain": [
              "<Figure size 640x480 with 0 Axes>"
            ]
          },
          "metadata": {}
        }
      ],
      "source": [
        "plt.savefig(\"avg_ratings.pdf\", format=\"pdf\")"
      ]
    },
    {
      "cell_type": "markdown",
      "metadata": {
        "id": "EvWtDBRp3JKt"
      },
      "source": [
        "### 2. Распределение студентов по курсам."
      ]
    },
    {
      "cell_type": "markdown",
      "metadata": {
        "id": "zTPksBGL3JKt"
      },
      "source": [
        "<span style=\"color:red\">!!!ВНИМАТЕЛЬНО ИЗУЧИТЕ ТЕКСТ НИЖЕ!!!</span>.\n",
        "\n",
        "<span style=\"color:orange\">Если во время выполнения заданий у вас вознинут вопросы -- еще раз перечитайте текст целиком, скорее всего ответы уже содержатся в нем.</span>\n",
        "\n",
        "Теперь вам нужно распределить студентов по осенним курсам по выбору, учитывая их предпочтения."
      ]
    },
    {
      "cell_type": "markdown",
      "metadata": {
        "id": "S5lk67UA3JKt"
      },
      "source": [
        "## 📌 **Алгоритм распределения студентов по курсам**:\n",
        "1. По умолчанию на каждой дисциплине по выбору у 3 и 4 курсов может учиться 1 группа (до 30 студентов). Исключения описаны ниже. На blended-дисциплинах для четверокурсников количество мест не ограничено.\n",
        "2. Проводится первая волна отбора. Для каждой дисциплины формируется список тех, кто указал её первым приоритетом (если студент должен выбрать два курса по выбору, то для него дисциплины, которые он указал первым и вторым приоритетом, рассматриваются как дисциплины первого приоритета). Если желающих больше, чем мест, то выбирается топ по перцентилю рейтинга.\n",
        "3. На дисциплинах, где остались места после первой волны, формируются списки тех, кто выбрал их вторым приоритетом, и места заполняются лучшими по перцентили рейтинга студентами. После этого проводится такая же процедура для дисциплин третьего приоритета.\n",
        "4. Если студент не попал на необходимое количество курсов по итогам трёх волн, с ним связывается учебный офис и решает вопрос в индивидуальном порядке."
      ]
    },
    {
      "cell_type": "markdown",
      "metadata": {
        "id": "Ux4yMPan3JKu"
      },
      "source": [
        "## ☝️ **Обращаем ваше внимание на следующие детали:**\n",
        "\n",
        "- Конкурс на каждый курс общий для 3-го и 4-го курса\n",
        "\n",
        "- По умолчанию студент выбирает один осенний и один весенний курс по выбору, а также четверокурсники выбирают один blended-курс. Студенты групп 17-го года специализаций МОП и ТИ выбирают по 2 осенних и 2 весенних курса по выбору, также студенты групп 18' специализации МИ выбирают 2 осенних курса. <i>Для студентов, которые выбирают 2 курса (например, осенних) первый приоритет — <code>fall_1</code> и <code>fall_2</code>, второй приоритет — <code>fall_3</code>. Такие студенты участвуют только в двух волнах отбора</i>.\n",
        "\n",
        "- Студенты специализации МОП не могут выбрать весенним курсом по выбору Машинное обучение 2. **Если студент специализации МОП выбрал Машинное обучение 2, то его приоритеты сдвигаются.** Из-за совпадений первого и второго курса по выбору двигать приоритеты не надо.\n",
        "\n",
        "- Blended-курсы не трогайте, по ним не надо распределять, на другие курсы они никак не влияют.\n",
        "\n",
        "- Заведомо известно, что в процессе распределения не возникнет ситуации, когда на одно место претендуют студенты с одинаковым перцентилем.\n",
        "\n",
        "- Постарайтесь воздержаться от использования циклов там, где это возможно. <i>Допустимо итерироваться по <b>курсам</b>, на которые проводится отбор, и по <b>волнам</b> отбора. Если вы придумаете, как обойтись и без этих циклов, то на усмотрение проверяющего могут быть добавлены бонусные баллы. <b>Дублирование кода не признается успешным избавлением от циклов</b></i>\n",
        "\n",
        "- На выходе ожидается файл res_fall.csv с результатами распределения на осенние курсы по выбору. Файл должен быть следующего формата:\n",
        "\n",
        "    * три столбца: ID, course1, course2\n",
        "    \n",
        "    * Если студент не попал на курс, но должен был, то вместо названия курса в ячейке должна быть строка \"???\"\n",
        "    \n",
        "    * Если студент должен выбрать только один курс, то в колонке course2 для него должна стоять строка \"-\"\n",
        "\n",
        "    * Если студент должен выбрать два курса по выбору, то порядок в колонках course1 и course2 не важен.\n",
        "    \n",
        "    * Формат csv: для сохранения воспользуйтесь `df.write_csv('solution.csv')`"
      ]
    },
    {
      "cell_type": "markdown",
      "source": [
        "Для работы вам могут понадобиться следующие данные:\n",
        "\n",
        "- Результаты опроса (вы уже использовали этот файл в первой части задания, но на всякий случай ссылка: https://www.dropbox.com/s/f4rm8sjc3v99p0m/_end_seminar.xlsx?dl=0)\n",
        "\n",
        "- Соответствие номеров групп специализациям:\n",
        "\n",
        "    * 171, 172 - МОП; 173 - ТИ; 174 — АДИС; 175, 176 — РС; 177 — АПР\n",
        "    \n",
        "    * У студентов 18-го года номера групп соответствуют номерам до распределения по специализациям. Это означает, что по номеру группы 18* нельзя однозначно определить специализацию студента. При этом в рамках распределения важно знать информацию только о двух из них: МОП и МИ. Эти знание можно получить из колонок 'is_ml_student ' и 'is_mi' соответственно.\n",
        "\n",
        "- Ограничения по количеству мест на курсах по выбору:\n",
        "\n",
        "    * Осенние: везде 30 мест, кроме Statistical Learning Theory (60 мест), Высокопроизводительных вычислений (60 мест), Анализа неструктурированных данных ($\\infty$ мест)\n",
        "\n",
        "    * Весенние: везде 30 мест, кроме Обучения с подкреплением (60 мест), Анализа данных в бизнесе (60 мест).\n",
        "\n",
        "\n",
        "Кстати, убедитесь, что в данных больше нет пропусков и повторных записей и сериализуйте датафрейм"
      ],
      "metadata": {
        "id": "q4b6w14cS_rW"
      }
    },
    {
      "cell_type": "markdown",
      "metadata": {
        "id": "vOVE6Do13JKu"
      },
      "source": [
        "#### 0. Проверка\n",
        "\n",
        "Для начала давайте убедимся, что вы успешно выполнили задания первой части и проверим ваши данные на наличие пропусков и повторов:"
      ]
    },
    {
      "cell_type": "code",
      "source": [
        "df = df.collect(streaming=True)\n",
        "\n",
        "assert df.shape[0] == 347, \"В таблице остались повторы или потеряны данные\"\n",
        "assert df.null_count().sum_horizontal().item() == 0, \"В таблице остались пропуски\""
      ],
      "metadata": {
        "id": "tNeCa71zHEe8"
      },
      "execution_count": 29,
      "outputs": []
    },
    {
      "cell_type": "markdown",
      "metadata": {
        "id": "H7qZDN0y3JKu"
      },
      "source": [
        "Если вы не получили AssertionError, то можете продолжать."
      ]
    },
    {
      "cell_type": "markdown",
      "metadata": {
        "id": "y81hqcoZ3JKu"
      },
      "source": [
        "#### 1. [1 балл] Создайте новый признак, обозначающий, сколько осенних курсов должен выбрать студент\n",
        "\n",
        "В этом вам может помочь информация о специализации и группе студента."
      ]
    },
    {
      "cell_type": "code",
      "execution_count": 30,
      "metadata": {
        "id": "ThOnhPTs3JKv"
      },
      "outputs": [],
      "source": [
        "df = df.with_columns(\n",
        "    pl.when(pl.col(\"17_group\").is_in([171, 172, 173])).then(2)\n",
        "    .when((pl.col(\"18_group\") != 0) & (pl.col(\"is_mi\") == True)).then(2)\n",
        "    .otherwise(1)\n",
        "    .alias(\"cnt_fall_courses\")\n",
        ")"
      ]
    },
    {
      "cell_type": "markdown",
      "metadata": {
        "id": "hapnRDPU3JKv"
      },
      "source": [
        "Проверка:"
      ]
    },
    {
      "cell_type": "code",
      "execution_count": 31,
      "metadata": {
        "id": "3qK9-jmP3JKv"
      },
      "outputs": [],
      "source": [
        "col_name = \"cnt_fall_courses\"\n",
        "\n",
        "ids = [\n",
        "    \"2662600c2c37e11e62f6ee0b88452f22\",\n",
        "    \"d555d2805e1d93d4f023e57dc4c8f403\",\n",
        "    \"8fe79f84f36e3a5d2d6745621321302c\",\n",
        "    \"e4caca755ee0bdd711e18fb8084958b5\",\n",
        "]\n",
        "assert (\n",
        "    df.filter(pl.col(\"id\").is_in(ids)).sort(\"id\")[col_name] == [2, 1, 2, 1]\n",
        ").all()"
      ]
    },
    {
      "cell_type": "markdown",
      "metadata": {
        "id": "kty-lzOJ3JKv"
      },
      "source": [
        "#### 2. [2 балла] Распределите студентов в соответствии с первым приоритетом"
      ]
    },
    {
      "cell_type": "code",
      "source": [
        "preferences = df.select([\n",
        "    'id',\n",
        "    'percentile',\n",
        "    'cnt_fall_courses',\n",
        "    'fall_1',\n",
        "    'fall_2',\n",
        "    'fall_3'\n",
        "])\n",
        "\n",
        "preferences_long = preferences.unpivot(\n",
        "    index=['id', 'percentile', 'cnt_fall_courses'],\n",
        "    on=['fall_1', 'fall_2', 'fall_3'],\n",
        "    variable_name='priority',\n",
        "    value_name='course'\n",
        ").filter(pl.col('course') != '')\n",
        "\n",
        "preferences_long = preferences_long.with_columns(\n",
        "    pl.when(\n",
        "        ((pl.col('cnt_fall_courses') == 2) & pl.col('priority').is_in(['fall_1', 'fall_2'])) |\n",
        "        ((pl.col('cnt_fall_courses') == 1) & (pl.col('priority') == 'fall_1'))\n",
        "    ).then(1)\n",
        "    .when(\n",
        "        ((pl.col('cnt_fall_courses') == 2) & (pl.col('priority') == 'fall_3')) |\n",
        "        ((pl.col('cnt_fall_courses') == 1) & (pl.col('priority') == 'fall_2'))\n",
        "    ).then(2)\n",
        "    .otherwise(3)\n",
        "    .alias('priority_level')\n",
        ")\n",
        "\n"
      ],
      "metadata": {
        "id": "0mAe7ENmDuP7"
      },
      "execution_count": 32,
      "outputs": []
    },
    {
      "cell_type": "code",
      "source": [
        "\n",
        "\n",
        "first_priority = preferences_long.filter(pl.col('priority_level') == 1)\n",
        "first_priority = first_priority.unique(subset=['id', 'course'])\n",
        "\n",
        "capacity_wave_1 = first_priority.with_columns(\n",
        "    pl.when(pl.col('course').is_in(['Statistical Learning Theory', 'Высокопроизводительные вычисления']))\n",
        "    .then(60)\n",
        "    .when(pl.col('course') == 'Анализ неструктурированных данных')\n",
        "    .then(float('inf'))\n",
        "    .otherwise(30)\n",
        "    .alias('capacity')\n",
        ")\n",
        "\n",
        "\n",
        "first_priority = capacity_wave_1.sort(by=['course', 'percentile'], descending=[False, False])\n",
        "\n",
        "first_priority = first_priority.with_columns(\n",
        "    pl.col('percentile').rank(\"dense\").over('course').alias('rank')\n",
        ")\n",
        "\n",
        "first_priority = first_priority.with_columns(\n",
        "    (pl.col('rank') <= pl.col('capacity')).alias('assigned')\n",
        ").filter(pl.col('assigned') == True)\n",
        "\n",
        "\n",
        "w_assignments_wave_1 = first_priority.select(['id', 'course', 'priority_level'])\n",
        "\n",
        "\n",
        "\n",
        "\n",
        "assignments_wave_1 = first_priority.group_by('id').agg([\n",
        "    pl.col('course').alias('assigned_courses')\n",
        "])\n",
        "\n",
        "\n",
        "\n",
        "\n",
        "\n",
        "\n",
        "\n",
        "cnt_courses = df.select(['id', 'cnt_fall_courses', 'percentile'])\n",
        "\n",
        "assignments_wave_1 = cnt_courses.join(assignments_wave_1, on='id', how='left')\n",
        "\n",
        "\n",
        "assignments_wave_1 = assignments_wave_1.with_columns([\n",
        "    pl.when(pl.col('assigned_courses').is_null())\n",
        "    .then(pl.lit([]))\n",
        "    .otherwise(pl.col('assigned_courses')).alias('assigned_courses')\n",
        "])\n",
        "\n",
        "final_assignments = assignments_wave_1.with_columns([\n",
        "    pl.when(pl.col('cnt_fall_courses') == 2)\n",
        "\n",
        "    .then(pl.when(pl.col('assigned_courses').list.len() == 2)\n",
        "          .then(pl.col('assigned_courses'))\n",
        "          .when(pl.col('assigned_courses').list.len() == 1)\n",
        "          .then(pl.concat_list([pl.col('assigned_courses'), pl.lit([\"???\"])]))\n",
        "          .otherwise(pl.concat_list([pl.col('assigned_courses'), pl.lit([\"???\", \"???\"])])))\n",
        "\n",
        "    .otherwise(pl.when(pl.col('assigned_courses').list.len() == 1)\n",
        "          .then(pl.concat_list([pl.col('assigned_courses'), pl.lit([\"-\"])]))\n",
        "          .otherwise(pl.concat_list([pl.col('assigned_courses'), pl.lit([\"???\", \"-\"])])))\n",
        "    .alias('courses')\n",
        "])\n",
        "\n",
        "\n",
        "final_assignments = final_assignments.with_columns([\n",
        "    pl.col('courses').list.get(0).alias('course1'),\n",
        "    pl.col('courses').list.get(1).alias('course2')\n",
        "])\n",
        "\n",
        "df_wave_1 = final_assignments.select(['id', \"course1\", \"course2\"])\n",
        "\n",
        "course_counts_wave_1 = first_priority.group_by('course').agg([\n",
        "    pl.count('id').alias('num_students_assigned')\n",
        "])\n",
        "\n",
        "\n",
        "\n",
        "print(course_counts_wave_1)"
      ],
      "metadata": {
        "colab": {
          "base_uri": "https://localhost:8080/"
        },
        "id": "kOe08o6ozik6",
        "outputId": "5a11e509-088b-4253-a22a-bc199fb7f6d1"
      },
      "execution_count": 33,
      "outputs": [
        {
          "output_type": "stream",
          "name": "stdout",
          "text": [
            "shape: (12, 2)\n",
            "┌─────────────────────────────────┬───────────────────────┐\n",
            "│ course                          ┆ num_students_assigned │\n",
            "│ ---                             ┆ ---                   │\n",
            "│ str                             ┆ u32                   │\n",
            "╞═════════════════════════════════╪═══════════════════════╡\n",
            "│ Теория баз данных               ┆ 14                    │\n",
            "│ Анализ неструктурированных дан… ┆ 48                    │\n",
            "│ Принятие решений в условиях ри… ┆ 8                     │\n",
            "│ Язык SQL                        ┆ 29                    │\n",
            "│ Сбор и обработка данных с помо… ┆ 30                    │\n",
            "│ …                               ┆ …                     │\n",
            "│ Безопасность компьютерных сист… ┆ 30                    │\n",
            "│ Байесовские методы машинного о… ┆ 24                    │\n",
            "│ Высокопроизводительные вычисле… ┆ 44                    │\n",
            "│ Глубинное обучение в обработке… ┆ 23                    │\n",
            "│ Моделирование временных рядов   ┆ 30                    │\n",
            "└─────────────────────────────────┴───────────────────────┘\n"
          ]
        }
      ]
    },
    {
      "cell_type": "markdown",
      "metadata": {
        "id": "YtFzmI0q3JKv"
      },
      "source": [
        "Здесь для проверки приведена таблица, в которой есть 2 дополнительные колонки:\n",
        "    \n",
        "    1) is_first_place - является ли студент лучшим по перцентили хотя бы на одном из курсов, куда он был зачислен\n",
        "    (True / NaN)\n",
        "    \n",
        "    2) is_last_place  - является ли студент худшим по перцентили хотя бы на одном из курсов, куда он был зачислен (True / NaN)"
      ]
    },
    {
      "cell_type": "code",
      "execution_count": 34,
      "metadata": {
        "id": "Fdmh053Y3JKw"
      },
      "outputs": [],
      "source": [
        "!wget  -O '2_task_check.csv' -q 'https://www.dropbox.com/s/v8o2zzq3iz5gc9w/_2_task_check.csv?dl=0'\n",
        "check_df = pl.read_csv('2_task_check.csv')"
      ]
    },
    {
      "cell_type": "markdown",
      "metadata": {
        "id": "eA-fUDln3JKw"
      },
      "source": [
        "После распределения студентов в соответствии с первым приоритетом добавьте в свой датафрейм аналогичные признаки и запустите проверку:"
      ]
    },
    {
      "cell_type": "code",
      "source": [
        "course_ranks  = first_priority.group_by('course').agg([\n",
        "    pl.col('percentile').min().alias('max_percentile'),\n",
        "    pl.col('percentile').max().alias('min_percentile')\n",
        "])\n",
        "\n",
        "assigned_courses = first_priority.join(course_ranks, on='course')\n",
        "\n",
        "assigned_courses = assigned_courses.with_columns([\n",
        "    (pl.col('percentile') == pl.col('max_percentile')).alias('is_first_place'),\n",
        "    (pl.col('percentile') == pl.col('min_percentile')).alias('is_last_place')\n",
        "])\n",
        "\n",
        "final_flags = assigned_courses.group_by('id').agg([\n",
        "    pl.col('is_first_place').max().alias('is_first_place'),\n",
        "    pl.col('is_last_place').max().alias('is_last_place')\n",
        "])\n",
        "\n",
        "df_wave_1 = df_wave_1.join(final_flags, on='id', how='left')"
      ],
      "metadata": {
        "id": "zyIyu4pW7fjx"
      },
      "execution_count": 35,
      "outputs": []
    },
    {
      "cell_type": "code",
      "execution_count": 36,
      "metadata": {
        "id": "ueNXylC23JKw"
      },
      "outputs": [],
      "source": [
        "fir_col_name = 'is_first_place'\n",
        "last_col_name = 'is_last_place'\n",
        "\n",
        "assert (\n",
        "    check_df.sort(\"id\").select(\"is_first_place\", \"is_last_place\")\n",
        "    == df_wave_1.sort(\"id\").select(fir_col_name, last_col_name)\n",
        ").sum().rows() == [(10, 12)]"
      ]
    },
    {
      "cell_type": "markdown",
      "metadata": {
        "id": "qrPM6dpZ3JKw"
      },
      "source": [
        "#### 3. [2 балла] Проведите все три волны отбора студентов на курсы по выбору"
      ]
    },
    {
      "cell_type": "code",
      "source": [
        "remaining_students_wave_2 = preferences_long.join(\n",
        "    assignments_wave_1.select(['id', 'assigned_courses']), on='id', how='left'\n",
        ")\n",
        "\n",
        "remaining_students_wave_2 = remaining_students_wave_2.with_columns(\n",
        "    pl.col('assigned_courses').fill_null(pl.lit([]))\n",
        ")\n",
        "\n",
        "remaining_students_wave_2 = remaining_students_wave_2.with_columns(\n",
        "    (pl.col('cnt_fall_courses') - pl.col('assigned_courses').list.len()).alias('courses_needed')\n",
        ")\n",
        "\n",
        "remaining_students_wave_2 = remaining_students_wave_2.filter(\n",
        "    pl.col('courses_needed') > 0\n",
        ")\n",
        "\n",
        "second_priority = remaining_students_wave_2.with_columns(\n",
        "    pl.col('assigned_courses').list.contains(pl.col('course')).alias('already_assigned')\n",
        ").filter(\n",
        "    ~pl.col('already_assigned')\n",
        ")\n",
        "\n",
        "second_priority = second_priority.filter(pl.col('priority_level') == 2)\n",
        "\n",
        "second_priority = second_priority.join(\n",
        "    course_counts_wave_1, on='course', how='left'\n",
        ")\n",
        "\n",
        "second_priority = second_priority.with_columns(\n",
        "    pl.col('num_students_assigned').fill_null(0)\n",
        ")\n",
        "\n",
        "second_priority = second_priority.with_columns(\n",
        "    pl.when(pl.col('course').is_in(['Statistical Learning Theory', 'Высокопроизводительные вычисления']))\n",
        "    .then((60 - pl.col('num_students_assigned')).clip(0, None))\n",
        "    .when(pl.col('course') == 'Анализ неструктурированных данных')\n",
        "    .then(float('inf'))\n",
        "    .otherwise((30 - pl.col('num_students_assigned')).clip(0, None))\n",
        "    .alias('capacity')\n",
        ")\n",
        "\n",
        "second_priority = second_priority.sort(by=['course', 'percentile'], descending=[False, False])\n",
        "\n",
        "second_priority = second_priority.with_columns(\n",
        "    pl.col('percentile').rank(\"dense\").over('course').alias('rank')\n",
        ")\n",
        "\n",
        "second_priority = second_priority.with_columns(\n",
        "    (pl.col('rank') <= pl.col('capacity')).alias('assigned')\n",
        ").filter(pl.col('assigned') == True)\n",
        "\n",
        "w_assignments_wave_2 = second_priority.select(['id', 'course', 'priority_level'])\n",
        "\n",
        "assignments_wave_2 = second_priority.group_by('id').agg([\n",
        "    pl.col('course').alias('assigned_courses')\n",
        "])\n",
        "\n",
        "assignments_wave_2_exploded = assignments_wave_2.explode('assigned_courses')\n",
        "\n",
        "course_counts_wave_2 = assignments_wave_2_exploded.group_by('assigned_courses').agg([\n",
        "    pl.count('id').alias('num_students_assigned')\n",
        "]).rename({'assigned_courses': 'course'})\n",
        "\n",
        "print(course_counts_wave_2)"
      ],
      "metadata": {
        "colab": {
          "base_uri": "https://localhost:8080/"
        },
        "id": "ydnKjzW-Nq6Z",
        "outputId": "248042e6-5f58-4555-9b88-9483e7007a2b"
      },
      "execution_count": 37,
      "outputs": [
        {
          "output_type": "stream",
          "name": "stdout",
          "text": [
            "shape: (9, 2)\n",
            "┌─────────────────────────────────┬───────────────────────┐\n",
            "│ course                          ┆ num_students_assigned │\n",
            "│ ---                             ┆ ---                   │\n",
            "│ str                             ┆ u32                   │\n",
            "╞═════════════════════════════════╪═══════════════════════╡\n",
            "│ Матричные вычисления            ┆ 9                     │\n",
            "│ Глубинное обучение в обработке… ┆ 7                     │\n",
            "│ Высокопроизводительные вычисле… ┆ 16                    │\n",
            "│ Язык SQL                        ┆ 1                     │\n",
            "│ Теория баз данных               ┆ 4                     │\n",
            "│ Анализ неструктурированных дан… ┆ 5                     │\n",
            "│ Принятие решений в условиях ри… ┆ 1                     │\n",
            "│ Statistical Learning Theory     ┆ 8                     │\n",
            "│ Байесовские методы машинного о… ┆ 1                     │\n",
            "└─────────────────────────────────┴───────────────────────┘\n"
          ]
        }
      ]
    },
    {
      "cell_type": "code",
      "source": [
        "assignments_wave_1_and_2 = assignments_wave_1.join(\n",
        "    assignments_wave_2, on='id', how='outer', suffix='_wave2'\n",
        ")\n",
        "\n",
        "assignments_wave_1_and_2 = assignments_wave_1_and_2.with_columns([\n",
        "    pl.when(pl.col('assigned_courses').is_null())\n",
        "    .then(pl.lit([]))\n",
        "    .otherwise(pl.col('assigned_courses'))\n",
        "    .alias('assigned_courses_wave1'),\n",
        "    pl.when(pl.col('assigned_courses_wave2').is_null())\n",
        "    .then(pl.lit([]))\n",
        "    .otherwise(pl.col('assigned_courses_wave2'))\n",
        "    .alias('assigned_courses_wave2')\n",
        "])\n",
        "\n",
        "assignments_wave_1_and_2 = assignments_wave_1_and_2.with_columns(\n",
        "    pl.concat_list(['assigned_courses_wave1', 'assigned_courses_wave2']).alias('assigned_courses')\n",
        ")\n",
        "\n",
        "remaining_students_wave_3 = preferences_long.join(\n",
        "    assignments_wave_1_and_2.select(['id', 'assigned_courses']), on='id', how='left'\n",
        ")\n",
        "\n",
        "remaining_students_wave_3 = remaining_students_wave_3.with_columns(\n",
        "    pl.col('assigned_courses').fill_null(pl.lit([]))\n",
        ")\n",
        "\n",
        "remaining_students_wave_3 = remaining_students_wave_3.with_columns(\n",
        "    (pl.col('cnt_fall_courses') - pl.col('assigned_courses').list.len()).alias('courses_needed')\n",
        ")\n",
        "\n",
        "remaining_students_wave_3 = remaining_students_wave_3.filter(\n",
        "    pl.col('courses_needed') > 0\n",
        ")\n",
        "\n",
        "third_priority = remaining_students_wave_3.with_columns(\n",
        "    pl.col('assigned_courses').list.contains(pl.col('course')).alias('already_assigned')\n",
        ").filter(\n",
        "    ~pl.col('already_assigned')\n",
        ")\n",
        "\n",
        "\n",
        "third_priority = third_priority.filter(pl.col('priority_level') == 3)\n",
        "\n",
        "course_counts_combined = pl.concat([\n",
        "    course_counts_wave_1,\n",
        "    course_counts_wave_2\n",
        "]).group_by('course').agg([\n",
        "    pl.sum('num_students_assigned').alias('num_students_assigned')\n",
        "])\n",
        "\n",
        "third_priority = third_priority.join(\n",
        "    course_counts_combined, on='course', how='left'\n",
        ")\n",
        "\n",
        "third_priority = third_priority.with_columns(\n",
        "    pl.col('num_students_assigned').fill_null(0)\n",
        ")\n",
        "\n",
        "third_priority = third_priority.with_columns(\n",
        "    pl.when(pl.col('course').is_in(['Statistical Learning Theory', 'Высокопроизводительные вычисления']))\n",
        "    .then((60 - pl.col('num_students_assigned')).clip(0, None))\n",
        "    .when(pl.col('course') == 'Анализ неструктурированных данных')\n",
        "    .then(float('inf'))\n",
        "    .otherwise((30 - pl.col('num_students_assigned')).clip(0, None))\n",
        "    .alias('capacity')\n",
        ")\n",
        "\n",
        "third_priority = third_priority.sort(by=['course', 'percentile'], descending=[False, False])\n",
        "\n",
        "third_priority = third_priority.with_columns(\n",
        "    pl.col('percentile').rank(\"dense\").over('course').alias('rank')\n",
        ")\n",
        "\n",
        "third_priority = third_priority.with_columns(\n",
        "    (pl.col('rank') <= pl.col('capacity')).alias('assigned')\n",
        ").filter(pl.col('assigned') == True)\n",
        "\n",
        "w_assignments_wave_3 = third_priority.select(['id', 'course', 'priority_level'])\n",
        "\n",
        "\n",
        "assignments_wave_3 = third_priority.group_by('id').agg([\n",
        "    pl.col('course').alias('assigned_courses')\n",
        "])\n",
        "\n",
        "third_priority_exploded = assignments_wave_3.explode('assigned_courses')\n",
        "\n",
        "course_counts_wave_3 = third_priority_exploded.group_by('assigned_courses').agg([\n",
        "    pl.count('id').alias('num_students_assigned')\n",
        "]).rename({'assigned_courses': 'course'})\n",
        "\n",
        "print(course_counts_wave_3)"
      ],
      "metadata": {
        "colab": {
          "base_uri": "https://localhost:8080/"
        },
        "id": "7Gf5xZ--NvoD",
        "outputId": "f9e6db0c-c3d2-45c7-9684-f4629e7f7b92"
      },
      "execution_count": 38,
      "outputs": [
        {
          "output_type": "stream",
          "name": "stdout",
          "text": [
            "shape: (5, 2)\n",
            "┌─────────────────────────────────┬───────────────────────┐\n",
            "│ course                          ┆ num_students_assigned │\n",
            "│ ---                             ┆ ---                   │\n",
            "│ str                             ┆ u32                   │\n",
            "╞═════════════════════════════════╪═══════════════════════╡\n",
            "│ Матричные вычисления            ┆ 6                     │\n",
            "│ Принятие решений в условиях ри… ┆ 1                     │\n",
            "│ Анализ неструктурированных дан… ┆ 3                     │\n",
            "│ Теория баз данных               ┆ 6                     │\n",
            "│ Statistical Learning Theory     ┆ 2                     │\n",
            "└─────────────────────────────────┴───────────────────────┘\n"
          ]
        },
        {
          "output_type": "stream",
          "name": "stderr",
          "text": [
            "<ipython-input-38-98f7414a0be5>:1: DeprecationWarning: Use of `how='outer'` should be replaced with `how='full'`.\n",
            "  assignments_wave_1_and_2 = assignments_wave_1.join(\n"
          ]
        }
      ]
    },
    {
      "cell_type": "code",
      "source": [
        "assignments_all_waves = assignments_wave_1.join(\n",
        "    assignments_wave_2, on='id', how='outer', suffix='_wave2'\n",
        ").join(\n",
        "    assignments_wave_3.select(['id', 'assigned_courses']), on='id', how='outer', suffix='_wave3'\n",
        ").join(\n",
        "    cnt_courses , on='id', how='left'\n",
        ")\n",
        "\n",
        "\n",
        "\n",
        "assignments_all_waves = assignments_all_waves.with_columns([\n",
        "    pl.when(pl.col('assigned_courses').is_null())\n",
        "    .then(pl.lit([]))\n",
        "    .otherwise(pl.col('assigned_courses'))\n",
        "    .alias('assigned_courses_wave1'),\n",
        "    pl.when(pl.col('assigned_courses_wave2').is_null())\n",
        "    .then(pl.lit([]))\n",
        "    .otherwise(pl.col('assigned_courses_wave2'))\n",
        "    .alias('assigned_courses_wave2'),\n",
        "    pl.when(pl.col('assigned_courses_wave3').is_null())\n",
        "    .then(pl.lit([]))\n",
        "    .otherwise(pl.col('assigned_courses_wave3'))\n",
        "    .alias('assigned_courses_wave3'),\n",
        "    pl.col('cnt_fall_courses').fill_null(1).alias('cnt_fall_courses')\n",
        "])\n",
        "\n",
        "assignments_all_waves = assignments_all_waves.with_columns(\n",
        "    pl.concat_list(['assigned_courses_wave1', 'assigned_courses_wave2', 'assigned_courses_wave3']).alias('assigned_courses')\n",
        ")\n",
        "\n",
        "assignments_all_waves = assignments_all_waves.with_columns(\n",
        "    pl.col('assigned_courses').list.len().alias('courses_assigned')\n",
        ")\n",
        "\n",
        "assignments_all_waves = assignments_all_waves.with_columns(\n",
        "    (pl.col('cnt_fall_courses') - pl.col('courses_assigned')).alias('courses_needed')\n",
        ")\n",
        "\n",
        "assignments_all_waves = assignments_all_waves.with_columns([\n",
        "    pl.when(pl.col('cnt_fall_courses') == 2)\n",
        "    .then(\n",
        "        pl.when(pl.col('assigned_courses').list.len() == 2)\n",
        "        .then(pl.col('assigned_courses'))\n",
        "        .when(pl.col('assigned_courses').list.len() == 1)\n",
        "        .then(pl.concat_list([pl.col('assigned_courses'), pl.lit([\"???\"])]))\n",
        "        .otherwise(pl.concat_list([pl.col('assigned_courses'), pl.lit([\"???\", \"???\"])]))\n",
        "    )\n",
        "    .otherwise(\n",
        "        pl.when(pl.col('assigned_courses').list.len() == 1)\n",
        "        .then(pl.concat_list([pl.col('assigned_courses'), pl.lit([\"-\"])]))\n",
        "        .otherwise(pl.concat_list([pl.col('assigned_courses'), pl.lit([\"???\", \"-\"])]))\n",
        "    )\n",
        "    .alias('courses')\n",
        "])\n",
        "\n",
        "assignments_all_waves = assignments_all_waves.with_columns([\n",
        "    pl.col('courses').list.get(0).alias('course1'),\n",
        "    pl.col('courses').list.get(1).alias('course2')\n",
        "])\n",
        "\n",
        "final_df = assignments_all_waves.select(['id', 'course1', 'course2']).rename({'id': 'ID'})\n",
        "\n",
        "final_df.write_csv('res_fall.csv')"
      ],
      "metadata": {
        "colab": {
          "base_uri": "https://localhost:8080/"
        },
        "id": "KhQoxnrFjZjo",
        "outputId": "4b0b100c-9a00-4223-b82b-e1eef39b84df"
      },
      "execution_count": 39,
      "outputs": [
        {
          "output_type": "stream",
          "name": "stderr",
          "text": [
            "<ipython-input-39-43e0eeb2f153>:1: DeprecationWarning: Use of `how='outer'` should be replaced with `how='full'`.\n",
            "  assignments_all_waves = assignments_wave_1.join(\n"
          ]
        }
      ]
    },
    {
      "cell_type": "markdown",
      "metadata": {
        "id": "JgiMyLJz3JKw"
      },
      "source": [
        "**Отправьте свой файл res_fall.csv в контест (будет в ближайшее время, следите за новостями) и прикрепите/укажите ниже ваш никнейм и ссылку на успешную посылку.**"
      ]
    },
    {
      "cell_type": "markdown",
      "source": [
        "vspalysaev@edu.hse.ru ID: 120229445"
      ],
      "metadata": {
        "id": "Y-8-1nPOIdas"
      }
    },
    {
      "cell_type": "markdown",
      "metadata": {
        "id": "3za2-Axk3JKw"
      },
      "source": [
        "*Дисклеймер:*\n",
        "\n",
        "Контест выдаётся для самопроверки. Если ваша посылка получила ОК, то код, скорее всего, правильный. Но при этом оценка всё равно может быть снижена в случае обнаружения неэффективностей или ошибок в коде. Если вы сдадите в AnyTask очевидно неработающий код или ноутбук без кода, но при этом в контест будет сдан корректный файл, то это будет расцениваться как плагиат."
      ]
    },
    {
      "cell_type": "markdown",
      "metadata": {
        "id": "jzciJOzo3JKw"
      },
      "source": [
        "На всякий случай просим вас сдать вместе с ноутбуком файл res_fall.csv в anytask"
      ]
    },
    {
      "cell_type": "markdown",
      "metadata": {
        "id": "XRHWCteT3JKx"
      },
      "source": [
        "### 4. [1 балл] Распределите таким же образом студентов еще и на весенние курсы по выбору.\n",
        "\n",
        "Если ваш код был хорошо структурирован, то это не составит проблем.\n",
        "\n",
        "Если вы выполнили это задание, сдайте среди прочего файл res_spring.csv в таком же формате, как и res_fall.csv."
      ]
    },
    {
      "cell_type": "code",
      "source": [
        "df = df.with_columns(\n",
        "    pl.when(\n",
        "        pl.col('17_group').is_in([171, 172, 173])\n",
        "    ).then(2)\n",
        "    .otherwise(1)\n",
        "    .alias('cnt_spring_courses')\n",
        ")\n"
      ],
      "metadata": {
        "id": "-m6irLvGlT0W"
      },
      "execution_count": 41,
      "outputs": []
    },
    {
      "cell_type": "code",
      "execution_count": 48,
      "metadata": {
        "id": "8hDYJoMO3JKx",
        "colab": {
          "base_uri": "https://localhost:8080/"
        },
        "outputId": "291717ee-2339-4deb-bdde-2247131f88f5"
      },
      "outputs": [
        {
          "output_type": "stream",
          "name": "stdout",
          "text": [
            "shape: (15, 2)\n",
            "┌─────────────────────────────────┬───────────────────────┐\n",
            "│ course                          ┆ num_students_assigned │\n",
            "│ ---                             ┆ ---                   │\n",
            "│ str                             ┆ u32                   │\n",
            "╞═════════════════════════════════╪═══════════════════════╡\n",
            "│ Промышленное программирование … ┆ 30                    │\n",
            "│ Генеративные модели в машинном… ┆ 16                    │\n",
            "│ Символьные вычисления           ┆ 9                     │\n",
            "│ Обучение с подкреплением        ┆ 60                    │\n",
            "│ Численные методы                ┆ 9                     │\n",
            "│ …                               ┆ …                     │\n",
            "│ Машинное обучение 2             ┆ 30                    │\n",
            "│ Дискретная оптимизация          ┆ 30                    │\n",
            "│ Компьютерное зрение             ┆ 29                    │\n",
            "│ Анализ данных в бизнесе         ┆ 19                    │\n",
            "│ Методы сжатия и передачи медиа… ┆ 22                    │\n",
            "└─────────────────────────────────┴───────────────────────┘\n",
            "shape: (9, 2)\n",
            "┌─────────────────────────────────┬───────────────────────┐\n",
            "│ course                          ┆ num_students_assigned │\n",
            "│ ---                             ┆ ---                   │\n",
            "│ str                             ┆ u32                   │\n",
            "╞═════════════════════════════════╪═══════════════════════╡\n",
            "│ Дополнительные главы прикладно… ┆ 3                     │\n",
            "│ Численные методы                ┆ 5                     │\n",
            "│ Конфликты и кооперация          ┆ 1                     │\n",
            "│ Компьютерное зрение             ┆ 1                     │\n",
            "│ Символьные вычисления           ┆ 1                     │\n",
            "│ Методы сжатия и передачи медиа… ┆ 6                     │\n",
            "│ Системы баз данных              ┆ 3                     │\n",
            "│ Генеративные модели в машинном… ┆ 2                     │\n",
            "│ Анализ данных в бизнесе         ┆ 9                     │\n",
            "└─────────────────────────────────┴───────────────────────┘\n",
            "shape: (1, 2)\n",
            "┌────────┬───────────────────────┐\n",
            "│ course ┆ num_students_assigned │\n",
            "│ ---    ┆ ---                   │\n",
            "│ str    ┆ u32                   │\n",
            "╞════════╪═══════════════════════╡\n",
            "│ null   ┆ 13                    │\n",
            "└────────┴───────────────────────┘\n"
          ]
        },
        {
          "output_type": "stream",
          "name": "stderr",
          "text": [
            "<ipython-input-48-2952aee972ac>:219: DeprecationWarning: Use of `how='outer'` should be replaced with `how='full'`.\n",
            "  assignments_wave_1_and_2 = assignments_wave_1.join(\n",
            "<ipython-input-48-2952aee972ac>:310: DeprecationWarning: Use of `how='outer'` should be replaced with `how='full'`.\n",
            "  assignments_all_waves = assignments_wave_1.join(\n"
          ]
        }
      ],
      "source": [
        "def fix_mop_priorities(df):\n",
        "    ml_two = \"Машинное обучение 2\"\n",
        "    is_mop_student = (pl.col(\"17_group\").is_in([171, 172, 173])) | (pl.col(\"is_ml_student\") == 1)\n",
        "\n",
        "    df = df.with_columns([\n",
        "\n",
        "        pl.when(\n",
        "            is_mop_student & (pl.col(\"spring_1\") == ml_two)\n",
        "        ).then(pl.col(\"spring_2\"))\n",
        "        .when(\n",
        "            is_mop_student & (pl.col(\"spring_2\") == ml_two)\n",
        "        ).then(pl.col(\"spring_1\"))\n",
        "        .otherwise(pl.col(\"spring_1\"))\n",
        "        .alias(\"spring_1_adj\"),\n",
        "\n",
        "\n",
        "        pl.when(\n",
        "            is_mop_student & ((pl.col(\"spring_1\") == ml_two) | (pl.col(\"spring_2\") == ml_two))\n",
        "        ).then(pl.col(\"spring_3\"))\n",
        "        .when(\n",
        "            is_mop_student & (pl.col(\"spring_3\") == ml_two)\n",
        "        ).then(pl.lit(\"-\"))\n",
        "        .otherwise(pl.col(\"spring_2\"))\n",
        "        .alias(\"spring_2_adj\"),\n",
        "\n",
        "\n",
        "        pl.when(\n",
        "            is_mop_student & (\n",
        "                (pl.col(\"spring_1\") == ml_two) |\n",
        "                (pl.col(\"spring_2\") == ml_two) |\n",
        "                (pl.col(\"spring_3\") == ml_two)\n",
        "            )\n",
        "        ).then(pl.lit(\"-\"))\n",
        "        .otherwise(pl.col(\"spring_3\"))\n",
        "        .alias(\"spring_3_adj\")\n",
        "    ])\n",
        "\n",
        "    df = df.drop([\"spring_1\", \"spring_2\", \"spring_3\"])\n",
        "    df = df.rename({\n",
        "        \"spring_1_adj\": \"spring_1\",\n",
        "        \"spring_2_adj\": \"spring_2\",\n",
        "        \"spring_3_adj\": \"spring_3\"\n",
        "    })\n",
        "\n",
        "    return df\n",
        "\n",
        "m_df = fix_mop_priorities(df)\n",
        "\n",
        "preferences = m_df.select([\n",
        "    'id',\n",
        "    'percentile',\n",
        "    'cnt_spring_courses',\n",
        "    'spring_1',\n",
        "    'spring_2',\n",
        "    'spring_3'\n",
        "])\n",
        "\n",
        "\n",
        "preferences_long = preferences.unpivot(\n",
        "    index=['id', 'percentile', 'cnt_spring_courses'],\n",
        "    on=['spring_1', 'spring_2', 'spring_3'],\n",
        "    variable_name='priority',\n",
        "    value_name='course'\n",
        ").filter(pl.col('course') != '')\n",
        "\n",
        "preferences_long = preferences_long.with_columns(\n",
        "    pl.when(\n",
        "        ((pl.col('cnt_spring_courses') == 2) & pl.col('priority').is_in(['spring_1', 'spring_2'])) |\n",
        "        ((pl.col('cnt_spring_courses') == 1) & (pl.col('priority') == 'spring_1'))\n",
        "    ).then(1)\n",
        "    .when(\n",
        "        ((pl.col('cnt_spring_courses') == 2) & (pl.col('priority') == 'spring_3')) |\n",
        "        ((pl.col('cnt_spring_courses') == 1) & (pl.col('priority') == 'spring_2'))\n",
        "    ).then(2)\n",
        "    .otherwise(3)\n",
        "    .alias('priority_level')\n",
        ")\n",
        "\n",
        "first_priority = preferences_long.filter(pl.col('priority_level') == 1)\n",
        "first_priority = first_priority.unique(subset=['id', 'course'])\n",
        "\n",
        "capacity_wave_1 = first_priority.with_columns(\n",
        "    pl.when(pl.col('course').is_in(['Обучение с подкреплением', 'Анализ данных в бизнесе']))\n",
        "    .then(60)\n",
        "    .otherwise(30)\n",
        "    .alias('capacity')\n",
        ")\n",
        "\n",
        "\n",
        "first_priority = capacity_wave_1.sort(by=['course', 'percentile'], descending=[False, False])\n",
        "\n",
        "first_priority = first_priority.with_columns(\n",
        "    pl.col('percentile').rank(\"dense\").over('course').alias('rank')\n",
        ")\n",
        "\n",
        "first_priority = first_priority.with_columns(\n",
        "    (pl.col('rank') <= pl.col('capacity')).alias('assigned')\n",
        ").filter(pl.col('assigned') == True)\n",
        "\n",
        "\n",
        "w_assignments_wave_1 = first_priority.select(['id', 'course', 'priority_level'])\n",
        "\n",
        "\n",
        "\n",
        "\n",
        "assignments_wave_1 = first_priority.group_by('id').agg([\n",
        "    pl.col('course').alias('assigned_courses')\n",
        "])\n",
        "\n",
        "\n",
        "cnt_courses = m_df.select(['id', 'cnt_spring_courses', 'percentile'])\n",
        "\n",
        "assignments_wave_1 = cnt_courses.join(assignments_wave_1, on='id', how='left')\n",
        "\n",
        "\n",
        "assignments_wave_1 = assignments_wave_1.with_columns([\n",
        "    pl.when(pl.col('assigned_courses').is_null())\n",
        "    .then(pl.lit([]))\n",
        "    .otherwise(pl.col('assigned_courses')).alias('assigned_courses')\n",
        "])\n",
        "\n",
        "final_assignments = assignments_wave_1.with_columns([\n",
        "    pl.when(pl.col('cnt_spring_courses') == 2)\n",
        "\n",
        "    .then(pl.when(pl.col('assigned_courses').list.len() == 2)\n",
        "          .then(pl.col('assigned_courses'))\n",
        "          .when(pl.col('assigned_courses').list.len() == 1)\n",
        "          .then(pl.concat_list([pl.col('assigned_courses'), pl.lit([\"???\"])]))\n",
        "          .otherwise(pl.concat_list([pl.col('assigned_courses'), pl.lit([\"???\", \"???\"])])))\n",
        "\n",
        "    .otherwise(pl.when(pl.col('assigned_courses').list.len() == 1)\n",
        "          .then(pl.concat_list([pl.col('assigned_courses'), pl.lit([\"-\"])]))\n",
        "          .otherwise(pl.concat_list([pl.col('assigned_courses'), pl.lit([\"???\", \"-\"])])))\n",
        "    .alias('courses')\n",
        "])\n",
        "\n",
        "\n",
        "final_assignments = final_assignments.with_columns([\n",
        "    pl.col('courses').list.get(0).alias('course1'),\n",
        "    pl.col('courses').list.get(1).alias('course2')\n",
        "])\n",
        "\n",
        "df_wave_1 = final_assignments.select(['id', \"course1\", \"course2\"])\n",
        "\n",
        "course_counts_wave_1 = first_priority.group_by('course').agg([\n",
        "    pl.count('id').alias('num_students_assigned')\n",
        "])\n",
        "\n",
        "\n",
        "\n",
        "print(course_counts_wave_1)\n",
        "\n",
        "\n",
        "\n",
        "remaining_students_wave_2 = preferences_long.join(\n",
        "    assignments_wave_1.select(['id', 'assigned_courses']), on='id', how='left'\n",
        ")\n",
        "\n",
        "remaining_students_wave_2 = remaining_students_wave_2.with_columns(\n",
        "    pl.col('assigned_courses').fill_null(pl.lit([]))\n",
        ")\n",
        "\n",
        "remaining_students_wave_2 = remaining_students_wave_2.with_columns(\n",
        "    (pl.col('cnt_spring_courses') - pl.col('assigned_courses').list.len()).alias('courses_needed')\n",
        ")\n",
        "\n",
        "remaining_students_wave_2 = remaining_students_wave_2.filter(\n",
        "    pl.col('courses_needed') > 0\n",
        ")\n",
        "\n",
        "second_priority = remaining_students_wave_2.with_columns(\n",
        "    pl.col('assigned_courses').list.contains(pl.col('course')).alias('already_assigned')\n",
        ").filter(\n",
        "    ~pl.col('already_assigned')\n",
        ")\n",
        "\n",
        "second_priority = second_priority.filter(pl.col('priority_level') == 2)\n",
        "\n",
        "second_priority = second_priority.join(\n",
        "    course_counts_wave_1, on='course', how='left'\n",
        ")\n",
        "\n",
        "second_priority = second_priority.with_columns(\n",
        "    pl.col('num_students_assigned').fill_null(0)\n",
        ")\n",
        "\n",
        "second_priority = second_priority.with_columns(\n",
        "    pl.when(pl.col('course').is_in(['Обучение с подкреплением', 'Анализ данных в бизнесе']))\n",
        "    .then((60 - pl.col('num_students_assigned')).clip(0, None))\n",
        "    .otherwise((30 - pl.col('num_students_assigned')).clip(0, None))\n",
        "    .alias('capacity')\n",
        ")\n",
        "\n",
        "second_priority = second_priority.sort(by=['course', 'percentile'], descending=[False, False])\n",
        "\n",
        "second_priority = second_priority.with_columns(\n",
        "    pl.col('percentile').rank(\"dense\").over('course').alias('rank')\n",
        ")\n",
        "\n",
        "second_priority = second_priority.with_columns(\n",
        "    (pl.col('rank') <= pl.col('capacity')).alias('assigned')\n",
        ").filter(pl.col('assigned') == True)\n",
        "\n",
        "w_assignments_wave_2 = second_priority.select(['id', 'course', 'priority_level'])\n",
        "\n",
        "assignments_wave_2 = second_priority.group_by('id').agg([\n",
        "    pl.col('course').alias('assigned_courses')\n",
        "])\n",
        "\n",
        "assignments_wave_2_exploded = assignments_wave_2.explode('assigned_courses')\n",
        "\n",
        "course_counts_wave_2 = assignments_wave_2_exploded.group_by('assigned_courses').agg([\n",
        "    pl.count('id').alias('num_students_assigned')\n",
        "]).rename({'assigned_courses': 'course'})\n",
        "\n",
        "print(course_counts_wave_2)\n",
        "\n",
        "\n",
        "assignments_wave_1_and_2 = assignments_wave_1.join(\n",
        "    assignments_wave_2, on='id', how='outer', suffix='_wave2'\n",
        ")\n",
        "\n",
        "assignments_wave_1_and_2 = assignments_wave_1_and_2.with_columns([\n",
        "    pl.when(pl.col('assigned_courses').is_null())\n",
        "    .then(pl.lit([]))\n",
        "    .otherwise(pl.col('assigned_courses'))\n",
        "    .alias('assigned_courses_wave1'),\n",
        "    pl.when(pl.col('assigned_courses_wave2').is_null())\n",
        "    .then(pl.lit([]))\n",
        "    .otherwise(pl.col('assigned_courses_wave2'))\n",
        "    .alias('assigned_courses_wave2')\n",
        "])\n",
        "\n",
        "assignments_wave_1_and_2 = assignments_wave_1_and_2.with_columns(\n",
        "    pl.concat_list(['assigned_courses_wave1', 'assigned_courses_wave2']).alias('assigned_courses')\n",
        ")\n",
        "\n",
        "remaining_students_wave_3 = preferences_long.join(\n",
        "    assignments_wave_1_and_2.select(['id', 'assigned_courses']), on='id', how='left'\n",
        ")\n",
        "\n",
        "remaining_students_wave_3 = remaining_students_wave_3.with_columns(\n",
        "    pl.col('assigned_courses').fill_null(pl.lit([]))\n",
        ")\n",
        "\n",
        "remaining_students_wave_3 = remaining_students_wave_3.with_columns(\n",
        "    (pl.col('cnt_spring_courses') - pl.col('assigned_courses').list.len()).alias('courses_needed')\n",
        ")\n",
        "\n",
        "remaining_students_wave_3 = remaining_students_wave_3.filter(\n",
        "    (pl.col('courses_needed') > 0) & (pl.col('cnt_spring_courses') == 1)\n",
        ")\n",
        "\n",
        "third_priority = remaining_students_wave_3.with_columns(\n",
        "    pl.col('assigned_courses').list.contains(pl.col('course')).alias('already_assigned')\n",
        ").filter(\n",
        "    ~pl.col('already_assigned')\n",
        ")\n",
        "\n",
        "\n",
        "third_priority = third_priority.filter(pl.col('priority_level') == 3)\n",
        "\n",
        "course_counts_combined = pl.concat([\n",
        "    course_counts_wave_1,\n",
        "    course_counts_wave_2\n",
        "]).group_by('course').agg([\n",
        "    pl.sum('num_students_assigned').alias('num_students_assigned')\n",
        "])\n",
        "\n",
        "third_priority = third_priority.join(\n",
        "    course_counts_combined, on='course', how='left'\n",
        ")\n",
        "\n",
        "third_priority = third_priority.with_columns(\n",
        "    pl.col('num_students_assigned').fill_null(0)\n",
        ")\n",
        "\n",
        "third_priority = third_priority.with_columns(\n",
        "    pl.when(pl.col('course').is_in(['Обучение с подкреплением', 'Анализ данных в бизнесе']))\n",
        "    .then((60 - pl.col('num_students_assigned')).clip(0, None))\n",
        "    .otherwise((30 - pl.col('num_students_assigned')).clip(0, None))\n",
        "    .alias('capacity')\n",
        ")\n",
        "\n",
        "third_priority = third_priority.sort(by=['course', 'percentile'], descending=[False, False])\n",
        "\n",
        "third_priority = third_priority.with_columns(\n",
        "    pl.col('percentile').rank(\"dense\").over('course').alias('rank')\n",
        ")\n",
        "\n",
        "third_priority = third_priority.with_columns(\n",
        "    (pl.col('rank') <= pl.col('capacity')).alias('assigned')\n",
        ").filter(pl.col('assigned') == True)\n",
        "\n",
        "w_assignments_wave_3 = third_priority.select(['id', 'course', 'priority_level'])\n",
        "\n",
        "\n",
        "assignments_wave_3 = third_priority.group_by('id').agg([\n",
        "    pl.col('course').alias('assigned_courses')\n",
        "])\n",
        "\n",
        "third_priority_exploded = third_priority.explode('assigned_courses')\n",
        "\n",
        "course_counts_wave_3 = third_priority_exploded.group_by('assigned_courses').agg([\n",
        "    pl.count('id').alias('num_students_assigned')\n",
        "]).rename({'assigned_courses': 'course'})\n",
        "\n",
        "print(course_counts_wave_3)\n",
        "\n",
        "assignments_all_waves = assignments_wave_1.join(\n",
        "    assignments_wave_2, on='id', how='outer', suffix='_wave2'\n",
        ").join(\n",
        "    assignments_wave_3.select(['id', 'assigned_courses']), on='id', how='outer', suffix='_wave3'\n",
        ").join(\n",
        "    cnt_courses , on='id', how='left'\n",
        ")\n",
        "\n",
        "\n",
        "\n",
        "\n",
        "assignments_all_waves = assignments_all_waves.with_columns([\n",
        "    pl.when(pl.col('assigned_courses').is_null())\n",
        "    .then(pl.lit([]))\n",
        "    .otherwise(pl.col('assigned_courses'))\n",
        "    .alias('assigned_courses_wave1'),\n",
        "    pl.when(pl.col('assigned_courses_wave2').is_null())\n",
        "    .then(pl.lit([]))\n",
        "    .otherwise(pl.col('assigned_courses_wave2'))\n",
        "    .alias('assigned_courses_wave2'),\n",
        "    pl.when(pl.col('assigned_courses_wave3').is_null())\n",
        "    .then(pl.lit([]))\n",
        "    .otherwise(pl.col('assigned_courses_wave3'))\n",
        "    .alias('assigned_courses_wave3'),\n",
        "    pl.col('cnt_spring_courses').fill_null(1).alias('cnt_spring_courses')\n",
        "])\n",
        "\n",
        "assignments_all_waves = assignments_all_waves.with_columns(\n",
        "    pl.concat_list(['assigned_courses_wave1', 'assigned_courses_wave2', 'assigned_courses_wave3']).alias('assigned_courses')\n",
        ")\n",
        "\n",
        "assignments_all_waves = assignments_all_waves.with_columns(\n",
        "    pl.col('assigned_courses').list.len().alias('courses_assigned')\n",
        ")\n",
        "\n",
        "assignments_all_waves = assignments_all_waves.with_columns(\n",
        "    (pl.col('cnt_spring_courses') - pl.col('courses_assigned')).alias('courses_needed')\n",
        ")\n",
        "\n",
        "assignments_all_waves = assignments_all_waves.with_columns([\n",
        "    pl.when(pl.col('cnt_spring_courses') == 2)\n",
        "    .then(\n",
        "        pl.when(pl.col('assigned_courses').list.len() == 2)\n",
        "        .then(pl.col('assigned_courses'))\n",
        "        .when(pl.col('assigned_courses').list.len() == 1)\n",
        "        .then(pl.concat_list([pl.col('assigned_courses'), pl.lit([\"???\"])]))\n",
        "        .otherwise(pl.concat_list([pl.col('assigned_courses'), pl.lit([\"???\", \"???\"])]))\n",
        "    )\n",
        "    .otherwise(\n",
        "        pl.when(pl.col('assigned_courses').list.len() == 1)\n",
        "        .then(pl.concat_list([pl.col('assigned_courses'), pl.lit([\"-\"])]))\n",
        "        .otherwise(pl.concat_list([pl.col('assigned_courses'), pl.lit([\"???\", \"-\"])]))\n",
        "    )\n",
        "    .alias('courses')\n",
        "])\n",
        "\n",
        "assignments_all_waves = assignments_all_waves.with_columns([\n",
        "    pl.col('courses').list.get(0).alias('course1'),\n",
        "    pl.col('courses').list.get(1).alias('course2')\n",
        "])\n",
        "\n",
        "final_df_spring = assignments_all_waves.select(['id', 'course1', 'course2']).rename({'id': 'ID'})\n",
        "\n",
        "final_df_spring.write_csv('res_spring.csv')\n",
        "\n",
        "final_df_spring.write_csv('res_spring.csv')"
      ]
    },
    {
      "cell_type": "markdown",
      "metadata": {
        "id": "xw9tt9dH3JKx"
      },
      "source": [
        "**Отправьте свой файл res_spring.csv в контест (будет в ближайшее время, следите за новостями) и прикрепите/укажите ниже ваш никнейм и ссылку на успешную посылку.**"
      ]
    },
    {
      "cell_type": "markdown",
      "source": [
        "ID: 120340750"
      ],
      "metadata": {
        "id": "vDv5URd7O-Ko"
      }
    },
    {
      "cell_type": "markdown",
      "metadata": {
        "id": "7aB4Q1fs3JKx"
      },
      "source": [
        "На всякий случай просим вас сдать вместе с ноутбуком файл res_spring.csv в anytask"
      ]
    },
    {
      "cell_type": "markdown",
      "metadata": {
        "id": "M1LivaOx3JKx"
      },
      "source": [
        "Вставьте картинку, описывающую ваш опыт выполнения этого задания:"
      ]
    },
    {
      "cell_type": "code",
      "execution_count": null,
      "metadata": {
        "id": "QQ7X5fJW3JKx"
      },
      "outputs": [],
      "source": []
    }
  ],
  "metadata": {
    "colab": {
      "provenance": []
    },
    "kernelspec": {
      "display_name": "Python 3",
      "language": "python",
      "name": "python3"
    },
    "language_info": {
      "codemirror_mode": {
        "name": "ipython",
        "version": 3
      },
      "file_extension": ".py",
      "mimetype": "text/x-python",
      "name": "python",
      "nbconvert_exporter": "python",
      "pygments_lexer": "ipython3",
      "version": "3.10.13"
    }
  },
  "nbformat": 4,
  "nbformat_minor": 0
}